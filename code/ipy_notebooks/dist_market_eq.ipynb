{
 "metadata": {
  "name": "",
  "signature": "sha256:da8bc5c4b3314008dbc58a65fb2623e757fbb7d6f3af9167603bb635a303231c"
 },
 "nbformat": 3,
 "nbformat_minor": 0,
 "worksheets": [
  {
   "cells": [
    {
     "cell_type": "markdown",
     "metadata": {},
     "source": [
      "# distribution\n",
      "- first, make the permutations on a single machine and distribute them to allow the machines to create their data\n",
      "- split up computation by machine, or agent, have each machine do multiple agents?\n",
      "- "
     ]
    },
    {
     "cell_type": "markdown",
     "metadata": {},
     "source": [
      "# algo\n",
      "- each prox object will evaluate a prox operator and keep track of local dual variables\n",
      "- each prox object will contain one or more agent's info\n",
      "- at the lowest level, each prox object could be associated with just one agent\n",
      "- each compute node will have one or more prox objects\n",
      "- on each compute node, we run all the prox objects, this gives us a list of x_i and phi_i (one for each prox object)\n",
      "- these things are aggregated on the central server, which does the averagining\n",
      "- it then pushes out a full x_tild and phi_tild to each compute node, so that each prox object can pull its local info.\n",
      "- we'll compute $\\tilde{x}^k_g$, $\\bar{\\phi}^k_g$, and $u^{k+1}$ centrally (even though $u$ can be computed in a distributed way)\n",
      "- $w_i^{k+1}$ will be done within each prox\n",
      "\n",
      "$$\n",
      "\\begin{align}\n",
      "\\tilde{x}^k_g &:= \\frac{1}{|G^{-1}_g|} \\left( \\sum_{i \\in G^{-1}_g} x^k_{ig} - \\sum_{i \\in H^{-1}_g} b_{ig}\\right)\\\\\n",
      "\\bar{\\phi}^k_g &:= \\frac{1}{ |G^{-1}_g \\cup H^{-1}_g| } \\sum_{i \\in G^{-1}_g \\cup H^{-1}_g}\\phi^k_{ig}\\\\\n",
      "u^{k+1} &:= u^k + \\tilde{x}^k\\\\\n",
      "w_i^{k+1} &:= w_i^k + \\phi^k_i - \\bar{\\phi}^k_{G_i}\\\\\n",
      "x_i^{k+1}, \\phi_i^{k+1} &:= \\mbox{prox}_{f_i}(x_i^k - \\tilde{x}^k_{G_i} - u^{k+1}_{G_i},\n",
      "\\bar{\\phi}^k_{G_i} - w_i^{k+1}).\n",
      "\\end{align}\n",
      "$$"
     ]
    },
    {
     "cell_type": "markdown",
     "metadata": {},
     "source": [
      "# Ipython parallel notes\n",
      "- for an asyncresult `ar`, use `ar.stdout` and `ar.display_outpus()`"
     ]
    },
    {
     "cell_type": "code",
     "collapsed": false,
     "input": [
      "from IPython.parallel import Client\n",
      "c = Client()\n",
      "dv = c[:]\n",
      "dv.clear()\n",
      "import numpy as np\n",
      "\n",
      "with c[:].sync_imports():\n",
      "    import market_eq.distributed as dist\n",
      "    \n",
      "dv.clear() # to clear the namespaces\n",
      "\n",
      "from IPython.parallel import Reference\n",
      "c[0].execute('del a')"
     ],
     "language": "python",
     "metadata": {},
     "outputs": [
      {
       "output_type": "stream",
       "stream": "stdout",
       "text": [
        "importing market_eq.distributed on engine(s)\n"
       ]
      }
     ],
     "prompt_number": 1
    },
    {
     "cell_type": "markdown",
     "metadata": {},
     "source": [
      "# New experiments"
     ]
    },
    {
     "cell_type": "code",
     "collapsed": false,
     "input": [
      "ar = dist.dist_market_gen(dv, 10, 2)\n",
      "\n",
      "from IPython.parallel import Client\n",
      "c = Client()\n",
      "dv = c[:]\n",
      "import numpy as np\n",
      "\n",
      "with c[:].sync_imports():\n",
      "    import market_eq.distributed as dist\n",
      "\n",
      "\n",
      "from IPython.parallel import Client\n",
      "c = Client()\n",
      "dv = c[:]\n",
      "\n",
      "dv.apply(AdmmController.step_ac, Reference('accountants'), xtild, phibar, u)\n",
      "itertools.chain(_)\n",
      "\n",
      "apply(AdmmController.step_ac, accountants, xtild, phibar, u)\n",
      "\n",
      "admmcontroller.step(xtild, phibar, u)\n",
      "\n",
      "# what about gather?"
     ],
     "language": "python",
     "metadata": {},
     "outputs": []
    },
    {
     "cell_type": "code",
     "collapsed": false,
     "input": [
      "#import market_eq.distributed as dist\n",
      "import numpy as np\n",
      "import matplotlib.pyplot as plt\n",
      "#from market_eq.solvers.admm_solver \n",
      "import market_eq.market\n",
      "from market_eq.solvers.admm_solver import ADMMController\n",
      "\n",
      "n = 5\n",
      "r = 3\n",
      "\n",
      "market = market_eq.market.gen_market(n,r,seed=3)\n",
      "\n",
      "admm = ADMMController(market,prox_size=5)\n",
      "results = []"
     ],
     "language": "python",
     "metadata": {},
     "outputs": [
      {
       "output_type": "stream",
       "stream": "stdout",
       "text": [
        "goods:  5  agents:  5\n",
        "market is sane:  True\n",
        "market is really sane:  True\n"
       ]
      }
     ],
     "prompt_number": 5
    },
    {
     "cell_type": "code",
     "collapsed": false,
     "input": [
      "results.extend(admm.solve(15))\n",
      "plt.semilogy(results)"
     ],
     "language": "python",
     "metadata": {},
     "outputs": [
      {
       "metadata": {},
       "output_type": "pyout",
       "prompt_number": 6,
       "text": [
        "[<matplotlib.lines.Line2D at 0x1073c9a90>]"
       ]
      }
     ]
    },
    {
     "cell_type": "markdown",
     "metadata": {},
     "source": [
      "# distributed tests"
     ]
    },
    {
     "cell_type": "code",
     "collapsed": false,
     "input": [
      "from IPython.parallel import Client\n",
      "c = Client()\n",
      "dv = c[:]\n",
      "dv.clear()"
     ],
     "language": "python",
     "metadata": {},
     "outputs": [],
     "prompt_number": 1
    },
    {
     "cell_type": "code",
     "collapsed": false,
     "input": [
      "import market_eq.distributed as dist\n",
      "ar = dist.dist_market_gen(dv, 5, 3, 1)"
     ],
     "language": "python",
     "metadata": {},
     "outputs": [
      {
       "output_type": "stream",
       "stream": "stdout",
       "text": [
        "importing ADMMController from market_eq.solvers.admm_solver on engine(s)\n"
       ]
      }
     ],
     "prompt_number": 10
    },
    {
     "cell_type": "code",
     "collapsed": false,
     "input": [
      "from market_eq.solvers.admm_solver import DistADMM"
     ],
     "language": "python",
     "metadata": {},
     "outputs": [],
     "prompt_number": 11
    },
    {
     "cell_type": "code",
     "collapsed": false,
     "input": [
      "d = DistADMM(dv)\n",
      "results = []"
     ],
     "language": "python",
     "metadata": {},
     "outputs": [],
     "prompt_number": 12
    },
    {
     "cell_type": "code",
     "collapsed": false,
     "input": [
      "results.extend(d.solve(150))"
     ],
     "language": "python",
     "metadata": {},
     "outputs": [],
     "prompt_number": 15
    },
    {
     "cell_type": "code",
     "collapsed": false,
     "input": [
      "import matplotlib.pyplot as plt\n",
      "plt.semilogy(results)"
     ],
     "language": "python",
     "metadata": {},
     "outputs": [
      {
       "metadata": {},
       "output_type": "pyout",
       "prompt_number": 16,
       "text": [
        "[<matplotlib.lines.Line2D at 0x1110caf50>]"
       ]
      },
      {
       "metadata": {},
       "output_type": "display_data",
       "png": "[encoded data removed]",
       "text": [
        "<matplotlib.figure.Figure at 0x110bf0f90>"
       ]
      }
     ],
     "prompt_number": 16
    },
    {
     "cell_type": "code",
     "collapsed": false,
     "input": [],
     "language": "python",
     "metadata": {},
     "outputs": []
    }
   ],
   "metadata": {}
  }
 ]
}