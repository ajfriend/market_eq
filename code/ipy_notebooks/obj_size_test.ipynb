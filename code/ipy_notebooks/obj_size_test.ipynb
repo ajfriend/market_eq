{
 "metadata": {
  "name": "",
  "signature": "sha256:ef5de68035011936f422359e724177de2aca2843ac07e557e3e8a07ab3384ffa"
 },
 "nbformat": 3,
 "nbformat_minor": 0,
 "worksheets": [
  {
   "cells": [
    {
     "cell_type": "code",
     "collapsed": false,
     "input": [
      "import numpy as np\n",
      "from abc import ABCMeta, abstractmethod, abstractproperty\n",
      "\n",
      "class UtilityFunction(object):\n",
      "    \"\"\" represents a utility function.\n",
      "    \"\"\"\n",
      "    __metaclass__ = ABCMeta\n",
      "\n",
      "    @abstractproperty\n",
      "    def goods(self):\n",
      "        \"\"\"Return a dictionary view object of the good keys that this\n",
      "        utility function handles.\n",
      "        \"\"\"\n",
      "        pass\n",
      "\n",
      "    @abstractmethod\n",
      "    def eval(self, x):\n",
      "        \"\"\"\n",
      "        Evaluate the utility function at x. x should be a dictionary which\n",
      "        contains keys for all the goods this utility function takes as input.\n",
      "        If the dictionary values are numbers, return a number. If they are\n",
      "        cvxpy variables, then return a cvxpy expression.\n",
      "        \"\"\"\n",
      "        pass\n",
      "\n",
      "    @abstractmethod\n",
      "    def constr(self, x, phi, log_cash):\n",
      "        \"\"\"\n",
      "        Return a list of the constraints corresponding to this utility\n",
      "        function.\n",
      "        :math:`\\log(\\nabla u(x)^T x) - \\log( \\nabla_j u(x) ) + \\phi_j -\n",
      "        \\log{\\sum_k b_{ik} e^{\\phi_k} } \\geq 0`\n",
      "\n",
      "        If the input are constants, return the positive violation of the\n",
      "        constraint, or 0 if the constraint is not violated.\n",
      "        \"\"\"\n",
      "        pass\n",
      "\n",
      "    @abstractmethod\n",
      "    def demand(self, phi, log_cash):\n",
      "        pass\n",
      "\n",
      "    @abstractmethod\n",
      "    def __repr__(self):\n",
      "        pass\n",
      "\n",
      "    @abstractmethod\n",
      "    def cvx_eval(self, x):\n",
      "        \"\"\" return cvxpy expression for the (possibly transformed)\n",
      "        utility function for computing the demand of this function\n",
      "        in isolation\n",
      "        \"\"\"\n",
      "        pass\n",
      "\n",
      "\n",
      "class Linear(UtilityFunction):\n",
      "    \"\"\"\n",
      "    u(x) = a^T x\n",
      "    \"\"\"\n",
      "\n",
      "    def __init__(self, a):\n",
      "        # todo validate a. each value should be positive\n",
      "        self.a = dict(a)\n",
      "\n",
      "    def __repr__(self):\n",
      "        return self.__class__.__name__+\"({})\".format(self.a)\n",
      "\n",
      "    @property\n",
      "    def goods(self):\n",
      "        return self.a.viewkeys()\n",
      "\n",
      "    def eval(self, x):\n",
      "        return sum(x[g]*self.a[g] for g in self.a)\n",
      "\n",
      "    def cvx_eval(self, x):\n",
      "        return self.eval(x)\n",
      "\n",
      "    def constr(self, x, phi, log_cash):\n",
      "        #compute expr1 just once to save time. not sure if this is true, though\n",
      "        expr1 = cvx.log(self.eval(x))\n",
      "\n",
      "        def to_constant(x):\n",
      "            \"\"\"\n",
      "            return violation if constant, constraint if variable\"\"\"\n",
      "            return -x.value if x.is_constant() else x >= 0\n",
      "\n",
      "        tmp = [to_constant(expr1 - np.log(a) + phi[g] - log_cash)\n",
      "               for g, a in self.a.iteritems()]\n",
      "\n",
      "        return tmp\n",
      "\n",
      "    def demand(self, phi, log_cash):\n",
      "        cash = np.exp(log_cash)\n",
      "\n",
      "        bang_per_buck = {g: a/np.exp(phi[g])\n",
      "                         for g, a in self.a.iteritems()}\n",
      "\n",
      "        g_max = max(bang_per_buck.iteritems(), key=operator.itemgetter(1))[0]\n",
      "        util = bang_per_buck[g_max]*cash\n",
      "        dem = {g: 0 for g in self.a}\n",
      "        dem[g_max] = cash/np.exp(phi[g_max])\n",
      "        return util, dem\n",
      "\n",
      "    @staticmethod\n",
      "    def rand(n, pool):\n",
      "        \"\"\" Generate a random utility function of this type.\n",
      "        The utility is a function of n distinct goods chosen from 'pool'.\n",
      "        If pool is an integer, 'good' keys are chosen from\n",
      "        [str(a) for a in range(pool)]\n",
      "        \"\"\"\n",
      "        a = {str(k): np.random.rand()\n",
      "             for k in np.random.choice(pool, n, replace=False)}\n",
      "        return Linear(a)"
     ],
     "language": "python",
     "metadata": {},
     "outputs": [],
     "prompt_number": 1
    },
    {
     "cell_type": "code",
     "collapsed": false,
     "input": [
      "from pympler.asizeof import asizeof"
     ],
     "language": "python",
     "metadata": {},
     "outputs": [],
     "prompt_number": 2
    },
    {
     "cell_type": "code",
     "collapsed": false,
     "input": [
      "a = Linear.rand(20,100)"
     ],
     "language": "python",
     "metadata": {},
     "outputs": [],
     "prompt_number": 3
    },
    {
     "cell_type": "code",
     "collapsed": false,
     "input": [
      "asizeof(a)"
     ],
     "language": "python",
     "metadata": {},
     "outputs": [
      {
       "metadata": {},
       "output_type": "pyout",
       "prompt_number": 4,
       "text": [
        "3480"
       ]
      }
     ],
     "prompt_number": 4
    },
    {
     "cell_type": "code",
     "collapsed": false,
     "input": [
      "import numpy as np\n",
      "from abc import ABCMeta, abstractmethod, abstractproperty\n",
      "from itertools import izip\n",
      "\n",
      "class UtilityFunction(object):\n",
      "    \"\"\" represents a utility function.\n",
      "    \"\"\"\n",
      "    __metaclass__ = ABCMeta\n",
      "\n",
      "\n",
      "    @abstractmethod\n",
      "    def eval(self, x):\n",
      "        \"\"\"\n",
      "        Evaluate the utility function at x. x should be a dictionary which\n",
      "        contains keys for all the goods this utility function takes as input.\n",
      "        If the dictionary values are numbers, return a number. If they are\n",
      "        cvxpy variables, then return a cvxpy expression.\n",
      "        \"\"\"\n",
      "        pass\n",
      "\n",
      "    @abstractmethod\n",
      "    def constr(self, x, phi, log_cash):\n",
      "        \"\"\"\n",
      "        Return a list of the constraints corresponding to this utility\n",
      "        function.\n",
      "        :math:`\\log(\\nabla u(x)^T x) - \\log( \\nabla_j u(x) ) + \\phi_j -\n",
      "        \\log{\\sum_k b_{ik} e^{\\phi_k} } \\geq 0`\n",
      "\n",
      "        If the input are constants, return the positive violation of the\n",
      "        constraint, or 0 if the constraint is not violated.\n",
      "        \"\"\"\n",
      "        pass\n",
      "\n",
      "    @abstractmethod\n",
      "    def demand(self, phi, log_cash):\n",
      "        pass\n",
      "\n",
      "    @abstractmethod\n",
      "    def __repr__(self):\n",
      "        pass\n",
      "\n",
      "    @abstractmethod\n",
      "    def cvx_eval(self, x):\n",
      "        \"\"\" return cvxpy expression for the (possibly transformed)\n",
      "        utility function for computing the demand of this function\n",
      "        in isolation\n",
      "        \"\"\"\n",
      "        pass\n",
      "\n",
      "\n",
      "class Linear(UtilityFunction):\n",
      "    \"\"\"\n",
      "    u(x) = a^T x\n",
      "    \"\"\"\n",
      "\n",
      "    def __init__(self, goods, vals):\n",
      "        # todo validate a. each value should be positive\n",
      "        self.goods = goods\n",
      "        self.vals = vals\n",
      "\n",
      "    def __repr__(self):\n",
      "        return self.__class__.__name__+\"({},{})\".format(self.goods, self.vals)\n",
      "\n",
      "    def eval(self, x):\n",
      "        return sum(x[g]*a for g,a in izip(self.goods,self.vals))\n",
      "\n",
      "    def cvx_eval(self, x):\n",
      "        return self.eval(x)\n",
      "\n",
      "    def constr(self, x, phi, log_cash):\n",
      "        #compute expr1 just once to save time. not sure if this is true, though\n",
      "        expr1 = cvx.log(self.eval(x))\n",
      "\n",
      "        def to_constant(x):\n",
      "            \"\"\"\n",
      "            return violation if constant, constraint if variable\"\"\"\n",
      "            return -x.value if x.is_constant() else x >= 0\n",
      "\n",
      "        tmp = [to_constant(expr1 - np.log(a) + phi[g] - log_cash)\n",
      "               for g, a in izip(self.goods,self.vals)]\n",
      "\n",
      "        return tmp\n",
      "\n",
      "    def demand(self, phi, log_cash):\n",
      "        cash = np.exp(log_cash)\n",
      "\n",
      "        bang_per_buck = {g: a/np.exp(phi[g])\n",
      "                         for g, a in izip(self.goods,self.vals)}\n",
      "\n",
      "        g_max = max(bang_per_buck.iteritems(), key=operator.itemgetter(1))[0]\n",
      "        util = bang_per_buck[g_max]*cash\n",
      "        dem = {g: 0 for g in self.goods}\n",
      "        dem[g_max] = cash/np.exp(phi[g_max])\n",
      "        return util, dem\n",
      "\n",
      "    @staticmethod\n",
      "    def rand(n, pool):\n",
      "        \"\"\" Generate a random utility function of this type.\n",
      "        The utility is a function of n distinct goods chosen from 'pool'.\n",
      "        If pool is an integer, 'good' keys are chosen from\n",
      "        [str(a) for a in range(pool)]\n",
      "        \"\"\"\n",
      "        a = {str(k): np.random.rand()\n",
      "             for k in np.random.choice(pool, n, replace=False)}\n",
      "        \n",
      "        goods = tuple(k for k in np.random.choice(pool, n, replace=False))\n",
      "        vals = tuple(np.random.rand() for k in xrange(n))\n",
      "        return Linear(goods,vals)"
     ],
     "language": "python",
     "metadata": {},
     "outputs": [],
     "prompt_number": 5
    },
    {
     "cell_type": "code",
     "collapsed": false,
     "input": [
      "# we save space by using tuples instead of dicts for the function parameters\n",
      "a = Linear.rand(20,100)\n",
      "asizeof(a)"
     ],
     "language": "python",
     "metadata": {},
     "outputs": [
      {
       "metadata": {},
       "output_type": "pyout",
       "prompt_number": 6,
       "text": [
        "1832"
       ]
      }
     ],
     "prompt_number": 6
    },
    {
     "cell_type": "code",
     "collapsed": false,
     "input": [
      "# we save space by storing integer keys instead of strings of integers\n",
      "a = Linear.rand(20,100)\n",
      "asizeof(a)"
     ],
     "language": "python",
     "metadata": {},
     "outputs": [
      {
       "metadata": {},
       "output_type": "pyout",
       "prompt_number": 7,
       "text": [
        "1832"
       ]
      }
     ],
     "prompt_number": 7
    },
    {
     "cell_type": "code",
     "collapsed": false,
     "input": [
      "a"
     ],
     "language": "python",
     "metadata": {},
     "outputs": [
      {
       "metadata": {},
       "output_type": "pyout",
       "prompt_number": 28,
       "text": [
        "Linear((69, 2, 10, 89, 68, 16, 87, 80, 54, 85, 55, 32, 8, 93, 96, 23, 83, 56, 65, 92),(0.5779187415176253, 0.4261087251761172, 0.6302832642289373, 0.3199766251074927, 0.7880610012346823, 0.9619839084988494, 0.255157351186165, 0.8745064257721722, 0.9633234901184258, 0.9061529450969318, 0.6928641219461283, 0.17982285010096932, 0.9251331406907299, 0.2804617146016989, 0.11615294073476468, 0.2999681594119028, 0.8166545802249123, 0.3302376311929771, 0.15455133190443338, 0.868888433100184))"
       ]
      }
     ],
     "prompt_number": 28
    },
    {
     "cell_type": "code",
     "collapsed": false,
     "input": [
      "import numpy as np\n",
      "from abc import ABCMeta, abstractmethod, abstractproperty\n",
      "from itertools import izip\n",
      "\n",
      "class UtilityFunction(object):\n",
      "    \"\"\" represents a utility function.\n",
      "    \"\"\"\n",
      "    __metaclass__ = ABCMeta\n",
      "\n",
      "\n",
      "    @abstractmethod\n",
      "    def eval(self, x):\n",
      "        \"\"\"\n",
      "        Evaluate the utility function at x. x should be a dictionary which\n",
      "        contains keys for all the goods this utility function takes as input.\n",
      "        If the dictionary values are numbers, return a number. If they are\n",
      "        cvxpy variables, then return a cvxpy expression.\n",
      "        \"\"\"\n",
      "        pass\n",
      "\n",
      "    @abstractmethod\n",
      "    def constr(self, x, phi, log_cash):\n",
      "        \"\"\"\n",
      "        Return a list of the constraints corresponding to this utility\n",
      "        function.\n",
      "        :math:`\\log(\\nabla u(x)^T x) - \\log( \\nabla_j u(x) ) + \\phi_j -\n",
      "        \\log{\\sum_k b_{ik} e^{\\phi_k} } \\geq 0`\n",
      "\n",
      "        If the input are constants, return the positive violation of the\n",
      "        constraint, or 0 if the constraint is not violated.\n",
      "        \"\"\"\n",
      "        pass\n",
      "\n",
      "    @abstractmethod\n",
      "    def demand(self, phi, log_cash):\n",
      "        pass\n",
      "\n",
      "    @abstractmethod\n",
      "    def __repr__(self):\n",
      "        pass\n",
      "\n",
      "    @abstractmethod\n",
      "    def cvx_eval(self, x):\n",
      "        \"\"\" return cvxpy expression for the (possibly transformed)\n",
      "        utility function for computing the demand of this function\n",
      "        in isolation\n",
      "        \"\"\"\n",
      "        pass\n",
      "\n",
      "\n",
      "class Linear(UtilityFunction):\n",
      "    \"\"\"\n",
      "    u(x) = a^T x\n",
      "    \"\"\"\n",
      "\n",
      "    def __init__(self, goods, vals):\n",
      "        # todo validate a. each value should be positive\n",
      "        self.goods = goods\n",
      "        self.vals = vals\n",
      "\n",
      "    def __repr__(self):\n",
      "        return self.__class__.__name__+\"({},{})\".format(self.goods, self.vals)\n",
      "\n",
      "    def eval(self, x):\n",
      "        return sum(x[g]*a for g,a in izip(self.goods,self.vals))\n",
      "\n",
      "    def cvx_eval(self, x):\n",
      "        return self.eval(x)\n",
      "\n",
      "    def constr(self, x, phi, log_cash):\n",
      "        #compute expr1 just once to save time. not sure if this is true, though\n",
      "        expr1 = cvx.log(self.eval(x))\n",
      "\n",
      "        def to_constant(x):\n",
      "            \"\"\"\n",
      "            return violation if constant, constraint if variable\"\"\"\n",
      "            return -x.value if x.is_constant() else x >= 0\n",
      "\n",
      "        tmp = [to_constant(expr1 - np.log(a) + phi[g] - log_cash)\n",
      "               for g, a in izip(self.goods,self.vals)]\n",
      "\n",
      "        return tmp\n",
      "\n",
      "    def demand(self, phi, log_cash):\n",
      "        cash = np.exp(log_cash)\n",
      "\n",
      "        bang_per_buck = {g: a/np.exp(phi[g])\n",
      "                         for g, a in izip(self.goods,self.vals)}\n",
      "\n",
      "        g_max = max(bang_per_buck.iteritems(), key=operator.itemgetter(1))[0]\n",
      "        util = bang_per_buck[g_max]*cash\n",
      "        dem = {g: 0 for g in self.goods}\n",
      "        dem[g_max] = cash/np.exp(phi[g_max])\n",
      "        return util, dem\n",
      "\n",
      "    @staticmethod\n",
      "    def rand(n, pool):\n",
      "        \"\"\" Generate a random utility function of this type.\n",
      "        The utility is a function of n distinct goods chosen from 'pool'.\n",
      "        If pool is an integer, 'good' keys are chosen from\n",
      "        [str(a) for a in range(pool)]\n",
      "        \"\"\"\n",
      "        \n",
      "        goods = np.array(tuple(k for k in np.random.choice(pool, n, replace=False)))\n",
      "        vals = np.array(tuple(np.random.rand() for k in xrange(n)))\n",
      "        return Linear(goods,vals)"
     ],
     "language": "python",
     "metadata": {},
     "outputs": [],
     "prompt_number": 10
    },
    {
     "cell_type": "code",
     "collapsed": false,
     "input": [
      "# we save space by using numpy arrays instead of tuples\n",
      "a = Linear.rand(20,100)\n",
      "asizeof(a) + a.goods.nbytes + a.vals.nbytes"
     ],
     "language": "python",
     "metadata": {},
     "outputs": [
      {
       "metadata": {},
       "output_type": "pyout",
       "prompt_number": 9,
       "text": [
        "920"
       ]
      }
     ],
     "prompt_number": 9
    },
    {
     "cell_type": "code",
     "collapsed": false,
     "input": [
      "600/3480.0"
     ],
     "language": "python",
     "metadata": {},
     "outputs": [
      {
       "metadata": {},
       "output_type": "pyout",
       "prompt_number": 41,
       "text": [
        "0.1724137931034483"
       ]
      }
     ],
     "prompt_number": 41
    },
    {
     "cell_type": "code",
     "collapsed": false,
     "input": [
      "import numpy as np\n",
      "from abc import ABCMeta, abstractmethod, abstractproperty\n",
      "from itertools import izip\n",
      "\n",
      "class UtilityFunction(object):\n",
      "    \"\"\" represents a utility function.\n",
      "    \"\"\"\n",
      "    __metaclass__ = ABCMeta\n",
      "    __slots__ = ()\n",
      "\n",
      "\n",
      "    @abstractmethod\n",
      "    def eval(self, x):\n",
      "        \"\"\"\n",
      "        Evaluate the utility function at x. x should be a dictionary which\n",
      "        contains keys for all the goods this utility function takes as input.\n",
      "        If the dictionary values are numbers, return a number. If they are\n",
      "        cvxpy variables, then return a cvxpy expression.\n",
      "        \"\"\"\n",
      "        pass\n",
      "\n",
      "    @abstractmethod\n",
      "    def constr(self, x, phi, log_cash):\n",
      "        \"\"\"\n",
      "        Return a list of the constraints corresponding to this utility\n",
      "        function.\n",
      "        :math:`\\log(\\nabla u(x)^T x) - \\log( \\nabla_j u(x) ) + \\phi_j -\n",
      "        \\log{\\sum_k b_{ik} e^{\\phi_k} } \\geq 0`\n",
      "\n",
      "        If the input are constants, return the positive violation of the\n",
      "        constraint, or 0 if the constraint is not violated.\n",
      "        \"\"\"\n",
      "        pass\n",
      "\n",
      "    @abstractmethod\n",
      "    def demand(self, phi, log_cash):\n",
      "        pass\n",
      "\n",
      "    @abstractmethod\n",
      "    def __repr__(self):\n",
      "        pass\n",
      "\n",
      "    @abstractmethod\n",
      "    def cvx_eval(self, x):\n",
      "        \"\"\" return cvxpy expression for the (possibly transformed)\n",
      "        utility function for computing the demand of this function\n",
      "        in isolation\n",
      "        \"\"\"\n",
      "        pass\n",
      "\n",
      "\n",
      "class Linear(UtilityFunction):\n",
      "    \"\"\"\n",
      "    u(x) = a^T x\n",
      "    \"\"\"\n",
      "    __slots__ = ('goods', 'vals')\n",
      "\n",
      "    def __init__(self, goods, vals):\n",
      "        # todo validate a. each value should be positive\n",
      "        self.goods = goods\n",
      "        self.vals = vals\n",
      "\n",
      "    def __repr__(self):\n",
      "        return self.__class__.__name__+\"({},{})\".format(self.goods, self.vals)\n",
      "\n",
      "    def eval(self, x):\n",
      "        return sum(x[g]*a for g,a in izip(self.goods,self.vals))\n",
      "\n",
      "    def cvx_eval(self, x):\n",
      "        return self.eval(x)\n",
      "\n",
      "    def constr(self, x, phi, log_cash):\n",
      "        #compute expr1 just once to save time. not sure if this is true, though\n",
      "        expr1 = cvx.log(self.eval(x))\n",
      "\n",
      "        def to_constant(x):\n",
      "            \"\"\"\n",
      "            return violation if constant, constraint if variable\"\"\"\n",
      "            return -x.value if x.is_constant() else x >= 0\n",
      "\n",
      "        tmp = [to_constant(expr1 - np.log(a) + phi[g] - log_cash)\n",
      "               for g, a in izip(self.goods,self.vals)]\n",
      "\n",
      "        return tmp\n",
      "\n",
      "    def demand(self, phi, log_cash):\n",
      "        cash = np.exp(log_cash)\n",
      "\n",
      "        bang_per_buck = {g: a/np.exp(phi[g])\n",
      "                         for g, a in izip(self.goods,self.vals)}\n",
      "\n",
      "        g_max = max(bang_per_buck.iteritems(), key=operator.itemgetter(1))[0]\n",
      "        util = bang_per_buck[g_max]*cash\n",
      "        dem = {g: 0 for g in self.goods}\n",
      "        dem[g_max] = cash/np.exp(phi[g_max])\n",
      "        return util, dem\n",
      "\n",
      "    @staticmethod\n",
      "    def rand(n, pool):\n",
      "        \"\"\" Generate a random utility function of this type.\n",
      "        The utility is a function of n distinct goods chosen from 'pool'.\n",
      "        If pool is an integer, 'good' keys are chosen from\n",
      "        [str(a) for a in range(pool)]\n",
      "        \"\"\"\n",
      "        \n",
      "        goods = tuple(k for k in np.random.choice(pool, n, replace=False))\n",
      "        vals = tuple(np.random.rand() for k in xrange(n))\n",
      "        goods = np.array(goods)\n",
      "        vals = np.array(vals)\n",
      "        return Linear(goods,vals)"
     ],
     "language": "python",
     "metadata": {},
     "outputs": [],
     "prompt_number": 11
    },
    {
     "cell_type": "code",
     "collapsed": false,
     "input": [
      "# we save space by using slots\n",
      "a = Linear.rand(20,100)\n",
      "asizeof(a) + a.goods.nbytes + a.vals.nbytes"
     ],
     "language": "python",
     "metadata": {},
     "outputs": [
      {
       "metadata": {},
       "output_type": "pyout",
       "prompt_number": 12,
       "text": [
        "616"
       ]
      }
     ],
     "prompt_number": 12
    },
    {
     "cell_type": "code",
     "collapsed": false,
     "input": [
      "616/3480.0"
     ],
     "language": "python",
     "metadata": {},
     "outputs": [
      {
       "metadata": {},
       "output_type": "pyout",
       "prompt_number": 118,
       "text": [
        "0.17701149425287357"
       ]
      }
     ],
     "prompt_number": 118
    },
    {
     "cell_type": "code",
     "collapsed": false,
     "input": [
      "a.goods.nbytes + a.vals.nbytes"
     ],
     "language": "python",
     "metadata": {},
     "outputs": [
      {
       "metadata": {},
       "output_type": "pyout",
       "prompt_number": 116,
       "text": [
        "320"
       ]
      }
     ],
     "prompt_number": 116
    },
    {
     "cell_type": "code",
     "collapsed": false,
     "input": [
      "import inspect"
     ],
     "language": "python",
     "metadata": {},
     "outputs": [],
     "prompt_number": 64
    },
    {
     "cell_type": "code",
     "collapsed": false,
     "input": [
      "inspect.getdoc(a)"
     ],
     "language": "python",
     "metadata": {},
     "outputs": [
      {
       "metadata": {},
       "output_type": "pyout",
       "prompt_number": 65,
       "text": [
        "'u(x) = a^T x'"
       ]
      }
     ],
     "prompt_number": 65
    },
    {
     "cell_type": "code",
     "collapsed": false,
     "input": [
      "n = 300\n",
      "a = np.array(range(n))\n",
      "b = np.array(range(n+1))\n",
      "print asizeof(a)\n",
      "print asizeof(b)"
     ],
     "language": "python",
     "metadata": {},
     "outputs": [
      {
       "output_type": "stream",
       "stream": "stdout",
       "text": [
        "80\n",
        "80\n"
       ]
      }
     ],
     "prompt_number": 98
    },
    {
     "cell_type": "code",
     "collapsed": false,
     "input": [
      "n = 300\n",
      "asizeof(tuple(range(n))) - asizeof(tuple(range(n-1)))"
     ],
     "language": "python",
     "metadata": {},
     "outputs": [
      {
       "metadata": {},
       "output_type": "pyout",
       "prompt_number": 126,
       "text": [
        "32"
       ]
      }
     ],
     "prompt_number": 126
    },
    {
     "cell_type": "code",
     "collapsed": false,
     "input": [
      "n = 300\n",
      "np.array(range(n)).nbytes - np.array(range(n-1)).nbytes"
     ],
     "language": "python",
     "metadata": {},
     "outputs": [
      {
       "metadata": {},
       "output_type": "pyout",
       "prompt_number": 129,
       "text": [
        "8"
       ]
      }
     ],
     "prompt_number": 129
    },
    {
     "cell_type": "code",
     "collapsed": false,
     "input": [
      "import random\n",
      "random.sample(11,10)"
     ],
     "language": "python",
     "metadata": {},
     "outputs": [
      {
       "ename": "TypeError",
       "evalue": "object of type 'int' has no len()",
       "output_type": "pyerr",
       "traceback": [
        "\u001b[0;31m---------------------------------------------------------------------------\u001b[0m\n\u001b[0;31mTypeError\u001b[0m                                 Traceback (most recent call last)",
        "\u001b[0;32m<ipython-input-26-ca517a5c2f51>\u001b[0m in \u001b[0;36m<module>\u001b[0;34m()\u001b[0m\n\u001b[1;32m      1\u001b[0m \u001b[0;32mimport\u001b[0m \u001b[0mrandom\u001b[0m\u001b[0;34m\u001b[0m\u001b[0m\n\u001b[0;32m----> 2\u001b[0;31m \u001b[0mrandom\u001b[0m\u001b[0;34m.\u001b[0m\u001b[0msample\u001b[0m\u001b[0;34m(\u001b[0m\u001b[0;36m11\u001b[0m\u001b[0;34m,\u001b[0m\u001b[0;36m10\u001b[0m\u001b[0;34m)\u001b[0m\u001b[0;34m\u001b[0m\u001b[0m\n\u001b[0m",
        "\u001b[0;32m/usr/local/Cellar/python/2.7.9/Frameworks/Python.framework/Versions/2.7/lib/python2.7/random.pyc\u001b[0m in \u001b[0;36msample\u001b[0;34m(self, population, k)\u001b[0m\n\u001b[1;32m    319\u001b[0m         \u001b[0;31m# set and it doesn't suffer from frequent reselections.\u001b[0m\u001b[0;34m\u001b[0m\u001b[0;34m\u001b[0m\u001b[0m\n\u001b[1;32m    320\u001b[0m \u001b[0;34m\u001b[0m\u001b[0m\n\u001b[0;32m--> 321\u001b[0;31m         \u001b[0mn\u001b[0m \u001b[0;34m=\u001b[0m \u001b[0mlen\u001b[0m\u001b[0;34m(\u001b[0m\u001b[0mpopulation\u001b[0m\u001b[0;34m)\u001b[0m\u001b[0;34m\u001b[0m\u001b[0m\n\u001b[0m\u001b[1;32m    322\u001b[0m         \u001b[0;32mif\u001b[0m \u001b[0;32mnot\u001b[0m \u001b[0;36m0\u001b[0m \u001b[0;34m<=\u001b[0m \u001b[0mk\u001b[0m \u001b[0;34m<=\u001b[0m \u001b[0mn\u001b[0m\u001b[0;34m:\u001b[0m\u001b[0;34m\u001b[0m\u001b[0m\n\u001b[1;32m    323\u001b[0m             \u001b[0;32mraise\u001b[0m \u001b[0mValueError\u001b[0m\u001b[0;34m(\u001b[0m\u001b[0;34m\"sample larger than population\"\u001b[0m\u001b[0;34m)\u001b[0m\u001b[0;34m\u001b[0m\u001b[0m\n",
        "\u001b[0;31mTypeError\u001b[0m: object of type 'int' has no len()"
       ]
      }
     ],
     "prompt_number": 26
    },
    {
     "cell_type": "code",
     "collapsed": false,
     "input": [
      "[1,2,3] + (4,5)"
     ],
     "language": "python",
     "metadata": {},
     "outputs": [
      {
       "ename": "TypeError",
       "evalue": "can only concatenate list (not \"tuple\") to list",
       "output_type": "pyerr",
       "traceback": [
        "\u001b[0;31m---------------------------------------------------------------------------\u001b[0m\n\u001b[0;31mTypeError\u001b[0m                                 Traceback (most recent call last)",
        "\u001b[0;32m<ipython-input-27-79c19eb7e8c6>\u001b[0m in \u001b[0;36m<module>\u001b[0;34m()\u001b[0m\n\u001b[0;32m----> 1\u001b[0;31m \u001b[0;34m[\u001b[0m\u001b[0;36m1\u001b[0m\u001b[0;34m,\u001b[0m\u001b[0;36m2\u001b[0m\u001b[0;34m,\u001b[0m\u001b[0;36m3\u001b[0m\u001b[0;34m]\u001b[0m \u001b[0;34m+\u001b[0m \u001b[0;34m(\u001b[0m\u001b[0;36m4\u001b[0m\u001b[0;34m,\u001b[0m\u001b[0;36m5\u001b[0m\u001b[0;34m)\u001b[0m\u001b[0;34m\u001b[0m\u001b[0m\n\u001b[0m",
        "\u001b[0;31mTypeError\u001b[0m: can only concatenate list (not \"tuple\") to list"
       ]
      }
     ],
     "prompt_number": 27
    },
    {
     "cell_type": "code",
     "collapsed": false,
     "input": [
      "def rand_tuple(population, k, required_inds=None):\n",
      "    if isinstance(population, int):\n",
      "        population = xrange(population)\n",
      "\n",
      "    if required_inds is None:\n",
      "        required_inds = []\n",
      "\n",
      "    t = set(random.sample(population, k)) - set(required_inds)\n",
      "    print t\n",
      "    print required_inds\n",
      "\n",
      "    t = required_inds + list(t)\n",
      "    return tuple(t[:k])"
     ],
     "language": "python",
     "metadata": {},
     "outputs": [],
     "prompt_number": 117
    },
    {
     "cell_type": "code",
     "collapsed": false,
     "input": [],
     "language": "python",
     "metadata": {},
     "outputs": []
    }
   ],
   "metadata": {}
  }
 ]
}