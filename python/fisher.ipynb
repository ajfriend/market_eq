{
 "metadata": {
  "name": "",
  "signature": "sha256:2435683a6e3adf70312bbbf637d428a3624cd2d4cbafc19e83d75786e72d247d"
 },
 "nbformat": 3,
 "nbformat_minor": 0,
 "worksheets": [
  {
   "cells": [
    {
     "cell_type": "markdown",
     "metadata": {},
     "source": [
      "# TODO\n",
      "- leontief utility?\n",
      "- homogeous of degree 1 WLOG transform?\n",
      "- homothetic utility functions transformed to homogenous?\n",
      "- homogenous utilities might be cone-representable.... they are special cases of the more general ones that are not\n",
      "- look up: K. Jain, V. Vazirani, and Y. Ye, Market equilibria for homothetic, quasi-concave utilities and economies of scale in production, Proc. SODA\u201905.\n",
      "- basically, any homothetic function works for fisher markets. This seems super general, so that's probably what we want.\n",
      "\n",
      "# computational approach\n",
      "- single ADMM framework covers everything\n",
      "- prox onto global good constraints\n",
      "- prox each agents utility function or constraints. this works for aggregate social setting and for arrow-debreu setting\n",
      "- do the global prox as a sparse operation. each agent notifies if he is interested in a good, but most will be zero.\n",
      "- is it OK to let this change dynamically?\n",
      "- can handle the sparsity at each agent privately to produce an efficient prox\n",
      "- easily allow for different agents to have different types of utility functions\n",
      "- easily drop in and remove agents mid-computation (reason to do this?)\n",
      "- heck, even drop in new goods mid-computation (goods could be indexed as a dictionary...)\n",
      "\n",
      "# result summary\n",
      "\n",
      "- fisher and mixed fisher can be solved as a socially aggregated utility, when utilities are concave, increasing, homogenous of degree 1 (WLOG), and $\\log(u_i(x_i))$ is concave.\n",
      "- arrow debreu can be solved with the different set of non-homogenous utilities, using the convex intersection formulation\n",
      "- fisher and mixed fisher are instances of arrow-debreau, so they can also be solved with non-homogenous utilities using the convex intersection formulation\n",
      "\n",
      "# Fisher Market\n",
      "\n",
      "In the Fisher model, we have $m$ agents and $n$ goods. Agent $i$ acheives utility $u_i(x_i)$ when he is allocated a bundle of goods $x_i \\in \\mathbf{R}^m_{+}$. That is, he is allocated amount $x_{ij}$ of good $j$. Agent $i$ starts with some amount of money, $w_i$, which he uses to purchase the $m$ goods at prices $p \\in \\mathbf{R}^m_{++}$. Agent $i$ determines $x_i$ by solving the optimization problem\n",
      "\n",
      "\\begin{array}{ll}\n",
      "\\mbox{maximize} & u_i(x_i) \\\\\n",
      "\\mbox{subject to} & p^T x_i \\leq w_i \\\\\n",
      "& x_i \\geq 0.\n",
      "\\end{array}\n",
      "\n",
      "The global availability of good $j$ is given by $b_j > 0$.\n",
      "The goal of the Fisher market problem is to find an allocation $x \\in \\mathbf{R}^{m \\times n}_{+}$ and prices $p \\in \\mathbf{R}^m_{++}$ such that each agent has an optimal utility and the market clears, that is\n",
      "\n",
      "\\begin{equation}\n",
      "\\sum_{i=0}^{m-1} x_{ij} \\leq b_j,\\quad \\forall j.\n",
      "\\end{equation}\n",
      "\n",
      "# Fisher aggregate formulation\n",
      "\n",
      "TODO: look at the optimality conditions for proof\n",
      "\n",
      "NOTE: this immediately lends itself to ADMM\n",
      "\n",
      "\\begin{array}{ll}\n",
      "\\mbox{maximize} & \\sum_{i=0}^{m-1} w_i\\log(u_i(x_i)) \\\\\n",
      "\\mbox{subject to} & \\sum_{i=0}^{m-1} x_i \\leq b \\\\\n",
      "& x \\geq 0\n",
      "\\end{array}\n",
      "\n",
      "# Optimality conditions\n",
      "\n",
      "were $p$ is a vector of good prices, $w_i$ is the amount of money agent $i$ has to spend, $x_i$ is agent $i$'s purchase, and $u_i$ is his utility function.\n",
      "\n",
      "\\begin{equation}\n",
      "\\nabla u_i(x_i)^T x_i \\geq \\frac{w_i}{p_j} \\nabla_j u_i(x_i), \\forall i,j\n",
      "\\end{equation}\n",
      "\n",
      "in the linear case, this is\n",
      "\n",
      "\\begin{equation}\n",
      "a_i^T x_i \\geq \\frac{w_i}{p_j} a_{ij}.\n",
      "\\end{equation}\n",
      "\n",
      "Taking the log of the original gives\n",
      "\n",
      "\\begin{equation}\n",
      "\\log(\\nabla u_i(x_i)^T x_i) \\geq \\log(w_i) - \\log(p_j) + \\log(\\nabla_j u_i(x_i)), \\forall i,j\n",
      "\\end{equation}\n",
      "\n",
      "That is, his allocated utility is at least the utility he would get from going all in on any one good.\n",
      "\n",
      "$b \\in \\mathbf{R}^n$ is such that $b_j$ is the amount of good $j$ available for sale.\n",
      "\n",
      "\\begin{equation}\n",
      "\\sum_{i=0}^{n-1} x_{ij} \\leq b_j,\\quad \\forall j\n",
      "\\end{equation}\n",
      "\n",
      "Also have that \n",
      "\n",
      "\\begin{equation}\n",
      "p^T b \\leq \\sum_i w_i\n",
      "\\end{equation}\n",
      "\n",
      "and that\n",
      "\n",
      "\\begin{equation}\n",
      "x, p \\geq 0\n",
      "\\end{equation}\n",
      "\n",
      "# fisher market result\n",
      "\n",
      "all must be true:\n",
      "\n",
      "- $u_i(x_i)$ is concave and increasing\n",
      "- $u_i(x_i)$ is homogenous of degree 1\n",
      "- $\\log(u_i(x_i))$ is concave\n",
      "\n",
      "\n",
      "Jain et al. [12] showed how to transform a homothetic utility function into an equivalent ho- mogeneous degree 1 and log-concave function. Thus, the Fisher equilibrium problem with homothetic utilities can be also solved as a convex optimization problem.\n",
      "\n",
      "# mixed market equilibrium result\n",
      "in the mixed market equilibrium, where an agent may retain some money, and his utility is a function of both his allocation and retained money,\n",
      "\n",
      "convex equilibrium exists when all are true:\n",
      "\n",
      "- $u_i(x_i,s_i)$ is concave and increasing\n",
      "- $u_i(x_i,s_i)$ is homogenous of degree 1\n",
      "- $\\log(u_i(x_i,s_i))$ is concave\n",
      "\n",
      "these constraints include all constant elasticity, piece-wise concave linear, the Cobb-Douglass utility, and the Leontief utility functions.\n",
      "\n",
      "# non-homogeneous utilities\n",
      "\n",
      "Both fisher and arrow debreau markets allow for the more general utilities.\n",
      "\n",
      "How about the mixed market?\n",
      "\n",
      "in the mixed market, why can we not just set prices to 1 for the reserve?\n"
     ]
    },
    {
     "cell_type": "markdown",
     "metadata": {},
     "source": [
      "# Fisher with Cobb-Douglas utility\n",
      "\n",
      "Cobb-Douglas utility functions have the form\n",
      "\n",
      "\\begin{equation}\n",
      "u_i(x) = \\prod_{j=0}^{n-1} x_{j}^{a_j}\n",
      "\\end{equation}\n",
      "\n",
      "where $a_j \\geq 0$ and $\\sum a_j = 1$."
     ]
    },
    {
     "cell_type": "code",
     "collapsed": false,
     "input": [
      "import numpy as np\n",
      "import cvxpy as cvx\n",
      "\n",
      "m = 200 #agents\n",
      "n = 201 #goods\n",
      "\n",
      "b = np.random.rand(n)\n",
      "w = np.random.rand(m)\n",
      "A = np.random.rand(m,n)\n",
      "\n",
      "x = cvx.Variable(m,n)\n",
      "\n",
      "constr = [x >= 0, sum(x[i,:] for i in range(m)).T == b]\n",
      "\n",
      "obj = 0\n",
      "for i in range(m):\n",
      "    obj += w[i]*cvx.log(x[i,:]*A[i,:])\n",
      "\n",
      "prob = cvx.Problem(cvx.Maximize(obj),constr)\n",
      "result = prob.solve(solver=cvx.SCS, verbose=True)\n",
      "\n",
      "x = np.array(x.value)"
     ],
     "language": "python",
     "metadata": {},
     "outputs": [
      {
       "output_type": "stream",
       "stream": "stdout",
       "text": [
        "----------------------------------------------------------------------------\n",
        "\tSCS v1.0.5 - Splitting Conic Solver\n",
        "\t(c) Brendan O'Donoghue, Stanford University, 2012\n",
        "----------------------------------------------------------------------------\n",
        "Lin-sys: sparse-direct, nnz in A = 120800\n",
        "EPS = 1.00e-03, ALPHA = 1.80, MAX_ITERS = 2500, NORMALIZE = 1, SCALE = 5.00\n",
        "Variables n = 40400, constraints m = 41001\n",
        "Cones:\tprimal zero / dual free vars: 201\n",
        "\tlinear vars: 40200\n",
        "\texp vars: 600, dual exp vars: 0\n",
        "Setup time: 1.76e-01s\n"
       ]
      },
      {
       "output_type": "stream",
       "stream": "stdout",
       "text": [
        "----------------------------------------------------------------------------\n",
        " Iter | pri res | dua res | rel gap | pri obj | dua obj | kap/tau | time (s)\n",
        "----------------------------------------------------------------------------\n",
        "     0| 7.08e+00  1.01e+01       nan      -inf       inf       inf  1.70e-02 \n",
        "   100|"
       ]
      },
      {
       "output_type": "stream",
       "stream": "stdout",
       "text": [
        " 6.59e-03  4.44e-02  5.72e-04  5.71e+01  5.72e+01  2.34e-15  6.61e-01 \n",
        "   200|"
       ]
      },
      {
       "output_type": "stream",
       "stream": "stdout",
       "text": [
        " 2.73e-03  2.06e-02  3.53e-04  5.65e+01  5.66e+01  2.39e-15  1.45e+00 \n",
        "   300|"
       ]
      },
      {
       "output_type": "stream",
       "stream": "stdout",
       "text": [
        " 1.46e-03  1.26e-02  2.29e-04  5.63e+01  5.64e+01  2.41e-15  2.16e+00 \n",
        "   400|"
       ]
      },
      {
       "output_type": "stream",
       "stream": "stdout",
       "text": [
        " 9.46e-04  9.50e-03  2.02e-04  5.63e+01  5.63e+01  2.43e-15  2.93e+00 \n",
        "   500|"
       ]
      },
      {
       "output_type": "stream",
       "stream": "stdout",
       "text": [
        " 6.98e-04  7.06e-03  1.04e-04  5.62e+01  5.63e+01  0.00e+00  3.55e+00 \n",
        "   600|"
       ]
      },
      {
       "output_type": "stream",
       "stream": "stdout",
       "text": [
        " 4.49e-04  5.67e-03  9.10e-05  5.62e+01  5.62e+01  0.00e+00  4.15e+00 \n",
        "   700|"
       ]
      },
      {
       "output_type": "stream",
       "stream": "stdout",
       "text": [
        " 3.36e-04  4.53e-03  7.15e-05  5.62e+01  5.62e+01  0.00e+00  4.82e+00 \n",
        "   800|"
       ]
      },
      {
       "output_type": "stream",
       "stream": "stdout",
       "text": [
        " 3.32e-04  3.61e-03  5.30e-05  5.62e+01  5.62e+01  2.47e-15  5.44e+00 \n",
        "   900|"
       ]
      },
      {
       "output_type": "stream",
       "stream": "stdout",
       "text": [
        " 3.34e-04  3.11e-03  5.21e-05  5.62e+01  5.62e+01  0.00e+00  6.12e+00 \n",
        "  1000|"
       ]
      },
      {
       "output_type": "stream",
       "stream": "stdout",
       "text": [
        " 3.48e-04  2.80e-03  5.31e-05  5.62e+01  5.62e+01  0.00e+00  6.75e+00 \n",
        "  1100|"
       ]
      },
      {
       "output_type": "stream",
       "stream": "stdout",
       "text": [
        " 3.29e-04  2.48e-03  4.11e-05  5.61e+01  5.61e+01  2.49e-15  7.35e+00 \n",
        "  1200|"
       ]
      },
      {
       "output_type": "stream",
       "stream": "stdout",
       "text": [
        " 2.73e-04  2.40e-03  3.85e-05  5.61e+01  5.61e+01  2.49e-15  8.08e+00 \n",
        "  1300|"
       ]
      },
      {
       "output_type": "stream",
       "stream": "stdout",
       "text": [
        " 2.03e-04  2.32e-03  3.29e-05  5.61e+01  5.61e+01  2.49e-15  8.80e+00 \n",
        "  1400|"
       ]
      },
      {
       "output_type": "stream",
       "stream": "stdout",
       "text": [
        " 1.52e-04  2.27e-03  3.05e-05  5.61e+01  5.61e+01  2.49e-15  9.41e+00 \n",
        "  1500|"
       ]
      },
      {
       "output_type": "stream",
       "stream": "stdout",
       "text": [
        " 1.74e-04  2.04e-03  2.62e-05  5.61e+01  5.61e+01  0.00e+00  1.00e+01 \n",
        "  1600|"
       ]
      },
      {
       "output_type": "stream",
       "stream": "stdout",
       "text": [
        " 2.06e-04  1.70e-03  1.91e-05  5.61e+01  5.61e+01  0.00e+00  1.06e+01 \n",
        "  1700|"
       ]
      },
      {
       "output_type": "stream",
       "stream": "stdout",
       "text": [
        " 2.34e-04  1.43e-03  1.93e-05  5.61e+01  5.61e+01  2.50e-15  1.14e+01 \n",
        "  1800|"
       ]
      },
      {
       "output_type": "stream",
       "stream": "stdout",
       "text": [
        " 2.36e-04  1.27e-03  1.58e-05  5.61e+01  5.61e+01  0.00e+00  1.20e+01 \n",
        "  1900|"
       ]
      },
      {
       "output_type": "stream",
       "stream": "stdout",
       "text": [
        " 2.05e-04  1.27e-03  1.66e-05  5.61e+01  5.61e+01  2.50e-15  1.27e+01 \n",
        "  2000|"
       ]
      },
      {
       "output_type": "stream",
       "stream": "stdout",
       "text": [
        " 1.61e-04  1.34e-03  1.36e-05  5.61e+01  5.61e+01  0.00e+00  1.33e+01 \n",
        "  2100|"
       ]
      },
      {
       "output_type": "stream",
       "stream": "stdout",
       "text": [
        " 1.15e-04  1.39e-03  1.53e-05  5.61e+01  5.61e+01  0.00e+00  1.39e+01 \n",
        "  2200|"
       ]
      },
      {
       "output_type": "stream",
       "stream": "stdout",
       "text": [
        " 1.07e-04  1.33e-03  1.32e-05  5.61e+01  5.61e+01  0.00e+00  1.45e+01 \n",
        "  2300|"
       ]
      },
      {
       "output_type": "stream",
       "stream": "stdout",
       "text": [
        " 1.29e-04  1.21e-03  1.15e-05  5.61e+01  5.61e+01  0.00e+00  1.52e+01 \n",
        "  2360|"
       ]
      },
      {
       "output_type": "stream",
       "stream": "stdout",
       "text": [
        " 1.80e-04  9.50e-04  1.02e-05  5.61e+01  5.61e+01  0.00e+00  1.56e+01 \n",
        "----------------------------------------------------------------------------\n",
        "Status: Solved\n",
        "Timing: Total solve time: 1.56e+01s\n",
        "\tLin-sys: nnz in L factor: 262301, avg solve time: 2.07e-03s\n",
        "\tCones: avg projection time: 3.44e-03s\n",
        "----------------------------------------------------------------------------\n",
        "Error metrics:\n",
        "|Ax + s - b|_2 / (1 + |b|_2) = 1.7957e-04\n",
        "|A'y + c|_2 / (1 + |c|_2) = 9.5033e-04\n",
        "|c'x + b'y| / (1 + |c'x| + |b'y|) = 1.0218e-05\n",
        "dist(s, K) = 0, dist(y, K*) = 0, s'y = 0\n",
        "----------------------------------------------------------------------------\n",
        "c'x = 56.1171, -b'y = 56.1183\n",
        "============================================================================\n"
       ]
      }
     ],
     "prompt_number": 44
    },
    {
     "cell_type": "code",
     "collapsed": false,
     "input": [
      "import matplotlib.pyplot as plt\n",
      "\n",
      "fig = plt.figure(figsize=(9,9))\n",
      "ax1 = plt.subplot(111)\n",
      "ax1.matshow(x)"
     ],
     "language": "python",
     "metadata": {},
     "outputs": [
      {
       "metadata": {},
       "output_type": "pyout",
       "prompt_number": 45,
       "text": [
        "<matplotlib.image.AxesImage at 0x1065a82d0>"
       ]
      },
      {
       "metadata": {},
       "output_type": "display_data",
       "png": "[encoded data removed]",
       "text": [
        "<matplotlib.figure.Figure at 0x100c39c10>"
       ]
      }
     ],
     "prompt_number": 45
    },
    {
     "cell_type": "code",
     "collapsed": false,
     "input": [
      "w"
     ],
     "language": "python",
     "metadata": {},
     "outputs": [
      {
       "metadata": {},
       "output_type": "pyout",
       "prompt_number": 27,
       "text": [
        "array([ 0.87295567,  0.17698973,  0.51588181,  0.03396236,  0.13431874,\n",
        "        0.90742536,  0.4635051 ,  0.71688893,  0.20871106,  0.84837424])"
       ]
      }
     ],
     "prompt_number": 27
    },
    {
     "cell_type": "code",
     "collapsed": false,
     "input": [
      "x.sum(axis=0)"
     ],
     "language": "python",
     "metadata": {},
     "outputs": [
      {
       "metadata": {},
       "output_type": "pyout",
       "prompt_number": 29,
       "text": [
        "array([ 0.42974652,  0.50169959,  0.811496  ,  0.60033906,  0.652878  ,\n",
        "        0.72629381,  0.88822148,  0.80670798,  0.35309166,  0.76076786,\n",
        "        0.74424959])"
       ]
      }
     ],
     "prompt_number": 29
    },
    {
     "cell_type": "code",
     "collapsed": false,
     "input": [
      "b"
     ],
     "language": "python",
     "metadata": {},
     "outputs": [
      {
       "metadata": {},
       "output_type": "pyout",
       "prompt_number": 28,
       "text": [
        "array([ 0.43066632,  0.50253806,  0.81160932,  0.60101432,  0.65358993,\n",
        "        0.72672038,  0.88857652,  0.80708697,  0.35089961,  0.76107922,\n",
        "        0.74467182])"
       ]
      }
     ],
     "prompt_number": 28
    },
    {
     "cell_type": "code",
     "collapsed": false,
     "input": [
      "x = cvx.Variable(m,n)"
     ],
     "language": "python",
     "metadata": {},
     "outputs": [],
     "prompt_number": 30
    },
    {
     "cell_type": "code",
     "collapsed": false,
     "input": [
      "i = 0\n",
      "cvx.log(x[i,:]*A[i,:])"
     ],
     "language": "python",
     "metadata": {},
     "outputs": [
      {
       "metadata": {},
       "output_type": "pyout",
       "prompt_number": 39,
       "text": [
        "log([[ 0.26982441]\n",
        " [ 0.68349167]\n",
        " [ 0.23202511]\n",
        " [ 0.22678368]\n",
        " [ 0.72832953]\n",
        " [ 0.50453826]\n",
        " [ 0.91517755]\n",
        " [ 0.24406152]\n",
        " [ 0.82460816]\n",
        " [ 0.15558341]\n",
        " [ 0.90842683]].T * var1764[0, 0:].T)"
       ]
      }
     ],
     "prompt_number": 39
    },
    {
     "cell_type": "code",
     "collapsed": false,
     "input": [],
     "language": "python",
     "metadata": {},
     "outputs": []
    }
   ],
   "metadata": {}
  }
 ]
}