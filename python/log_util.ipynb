{
 "metadata": {
  "name": "",
  "signature": "sha256:f5fe311158f2e3859544d1841ebd77d2b6e452a9db0ecfe7b771fd1e2e9d86d9"
 },
 "nbformat": 3,
 "nbformat_minor": 0,
 "worksheets": [
  {
   "cells": [
    {
     "cell_type": "code",
     "collapsed": false,
     "input": [
      "import numpy as np\n",
      "import cvxpy as cvx\n",
      "from collections import defaultdict\n",
      "\n",
      "n = 5\n",
      "goods = {str(i) for i in range(n)}\n",
      "a = {g: np.random.rand() for g in goods}\n",
      "b = {g: np.random.rand() for g in goods}\n",
      "p = {g: np.random.rand() for g in goods}\n",
      "cash = np.random.rand()+1"
     ],
     "language": "python",
     "metadata": {},
     "outputs": [],
     "prompt_number": 91
    },
    {
     "cell_type": "code",
     "collapsed": false,
     "input": [
      "x = defaultdict(cvx.Variable)\n",
      "prob = cvx.Maximize( sum(a[g]*cvx.log(x[g] + b[g]) for g in goods))\n",
      "constr = [x[g] >= 0 for g in goods]\n",
      "constr += [sum(x[g]*p[g] for g in goods) <= cash]\n",
      "cvx.Problem(prob, constr).solve()\n",
      "\n",
      "x = {g: x[g].value for g in goods}\n",
      "x"
     ],
     "language": "python",
     "metadata": {},
     "outputs": [
      {
       "metadata": {},
       "output_type": "pyout",
       "prompt_number": 92,
       "text": [
        "{'0': 0.5964932646309028,\n",
        " '1': 4.6472880723690331e-15,\n",
        " '2': 0.48287581779983679,\n",
        " '3': 8.7040020422468737e-15,\n",
        " '4': 36.644284053075552}"
       ]
      }
     ],
     "prompt_number": 92
    },
    {
     "cell_type": "code",
     "collapsed": false,
     "input": [
      "taus = ((g,b[g]*p[g]/a[g]) for g in goods)\n",
      "taus"
     ],
     "language": "python",
     "metadata": {},
     "outputs": [
      {
       "metadata": {},
       "output_type": "pyout",
       "prompt_number": 50,
       "text": [
        "<generator object <genexpr> at 0x10cb5dd70>"
       ]
      }
     ],
     "prompt_number": 50
    },
    {
     "cell_type": "code",
     "collapsed": false,
     "input": [
      "goods_ord, taus_ord = zip(*sorted(((g,b[g]*p[g]/a[g]) for g in goods), key=lambda x: x[1]))\n",
      "goods_ord, taus_ord"
     ],
     "language": "python",
     "metadata": {},
     "outputs": [
      {
       "metadata": {},
       "output_type": "pyout",
       "prompt_number": 52,
       "text": [
        "(('2', '4', '0', '1', '3'),\n",
        " (0.015043182371223427,\n",
        "  0.15642041037727136,\n",
        "  0.44317843970242543,\n",
        "  2.4118254414170734,\n",
        "  5.073220539566248))"
       ]
      }
     ],
     "prompt_number": 52
    },
    {
     "cell_type": "code",
     "collapsed": false,
     "input": [
      "tmp = taus_ord*np.cumsum([a[g] for g in goods_ord]) - np.cumsum([b[g]*p[g] for g in goods_ord])\n",
      "tmp"
     ],
     "language": "python",
     "metadata": {},
     "outputs": [
      {
       "metadata": {},
       "output_type": "pyout",
       "prompt_number": 53,
       "text": [
        "array([  0.        ,   0.11711885,   0.49562713,   4.37159071,  10.28213738])"
       ]
      }
     ],
     "prompt_number": 53
    },
    {
     "cell_type": "code",
     "collapsed": false,
     "input": [
      "i = next(x[0] for x in enumerate(tmp) if x[1] >= cash)"
     ],
     "language": "python",
     "metadata": {},
     "outputs": [],
     "prompt_number": 56
    },
    {
     "cell_type": "code",
     "collapsed": false,
     "input": [
      "bundle[:i]"
     ],
     "language": "python",
     "metadata": {},
     "outputs": [
      {
       "metadata": {},
       "output_type": "pyout",
       "prompt_number": 57,
       "text": [
        "('0', '4', '3')"
       ]
      }
     ],
     "prompt_number": 57
    },
    {
     "cell_type": "code",
     "collapsed": false,
     "input": [
      "tau = (cash + sum(b[g]*p[g] for g in goods_ord[:i]))/sum(a[g] for g in goods_ord[:i])"
     ],
     "language": "python",
     "metadata": {},
     "outputs": [],
     "prompt_number": 66
    },
    {
     "cell_type": "code",
     "collapsed": false,
     "input": [
      "tau"
     ],
     "language": "python",
     "metadata": {},
     "outputs": [
      {
       "metadata": {},
       "output_type": "pyout",
       "prompt_number": 67,
       "text": [
        "1.0470795819882435"
       ]
      }
     ],
     "prompt_number": 67
    },
    {
     "cell_type": "code",
     "collapsed": false,
     "input": [
      "x"
     ],
     "language": "python",
     "metadata": {},
     "outputs": [
      {
       "metadata": {},
       "output_type": "pyout",
       "prompt_number": 68,
       "text": [
        "{'0': 0.68197609834690354,\n",
        " '1': -1.2000948482587949e-14,\n",
        " '2': 5.9835940109628512,\n",
        " '3': 1.7190208377918863e-14,\n",
        " '4': 0.86936877803570856}"
       ]
      }
     ],
     "prompt_number": 68
    },
    {
     "cell_type": "code",
     "collapsed": false,
     "input": [
      "myx = {g: max(0,tau*a[g]/p[g] - b[g]) for g in goods}\n",
      "myx"
     ],
     "language": "python",
     "metadata": {},
     "outputs": [
      {
       "metadata": {},
       "output_type": "pyout",
       "prompt_number": 69,
       "text": [
        "{'0': 0.6819760981745152,\n",
        " '1': 0,\n",
        " '2': 5.983594012175734,\n",
        " '3': 0,\n",
        " '4': 0.8693687778884288}"
       ]
      }
     ],
     "prompt_number": 69
    },
    {
     "cell_type": "code",
     "collapsed": false,
     "input": [
      "def demand(goods, a, b, p, cash):\n",
      "    taus = ((g,b[g]*p[g]/a[g]) for g in goods)\n",
      "    goods_ord, taus_ord = zip(*sorted(((g,b[g]*p[g]/a[g]) for g in goods), key=lambda x: x[1]))\n",
      "    fill = taus_ord*np.cumsum([a[g] for g in goods_ord]) - np.cumsum([b[g]*p[g] for g in goods_ord])\n",
      "    if fill[-1] < cash:\n",
      "        i = len(goods)\n",
      "    else:\n",
      "        i = next(x[0] for x in enumerate(fill) if x[1] >= cash)\n",
      "    tau = (cash + sum(b[g]*p[g] for g in goods_ord[:i]))/sum(a[g] for g in goods_ord[:i])\n",
      "    x = {g: max(0,tau*a[g]/p[g] - b[g]) for g in goods}\n",
      "    return x"
     ],
     "language": "python",
     "metadata": {},
     "outputs": [],
     "prompt_number": 83
    },
    {
     "cell_type": "code",
     "collapsed": false,
     "input": [
      "demand(goods, a, b, p, cash)"
     ],
     "language": "python",
     "metadata": {},
     "outputs": [
      {
       "metadata": {},
       "output_type": "pyout",
       "prompt_number": 94,
       "text": [
        "{'0': 0.5964932642437355,\n",
        " '1': 0,\n",
        " '2': 0.48287581758624554,\n",
        " '3': 0,\n",
        " '4': 36.64428406800883}"
       ]
      }
     ],
     "prompt_number": 94
    },
    {
     "cell_type": "code",
     "collapsed": false,
     "input": [
      "x"
     ],
     "language": "python",
     "metadata": {},
     "outputs": [
      {
       "metadata": {},
       "output_type": "pyout",
       "prompt_number": 95,
       "text": [
        "{'0': 0.5964932646309028,\n",
        " '1': 4.6472880723690331e-15,\n",
        " '2': 0.48287581779983679,\n",
        " '3': 8.7040020422468737e-15,\n",
        " '4': 36.644284053075552}"
       ]
      }
     ],
     "prompt_number": 95
    },
    {
     "cell_type": "code",
     "collapsed": false,
     "input": [
      "a, b, p"
     ],
     "language": "python",
     "metadata": {},
     "outputs": [
      {
       "metadata": {},
       "output_type": "pyout",
       "prompt_number": 97,
       "text": [
        "({'0': 0.5339782177661562,\n",
        "  '1': 0.17108281594052743,\n",
        "  '2': 0.28140222565899053,\n",
        "  '3': 0.10404990780337686,\n",
        "  '4': 0.8258181597772128},\n",
        " {'0': 0.34891939053202814,\n",
        "  '1': 0.9265849274366638,\n",
        "  '2': 0.03913825836779106,\n",
        "  '3': 0.5782680485924474,\n",
        "  '4': 0.2972184134787732},\n",
        " {'0': 0.6784302863856116,\n",
        "  '1': 0.46367641652811,\n",
        "  '2': 0.6475128796564683,\n",
        "  '3': 0.7016356918815538,\n",
        "  '4': 0.02685177323501886})"
       ]
      }
     ],
     "prompt_number": 97
    },
    {
     "cell_type": "code",
     "collapsed": false,
     "input": [
      "\"hello+fine\""
     ],
     "language": "python",
     "metadata": {},
     "outputs": [
      {
       "metadata": {},
       "output_type": "pyout",
       "prompt_number": 98,
       "text": [
        "'hello+fine'"
       ]
      }
     ],
     "prompt_number": 98
    },
    {
     "cell_type": "code",
     "collapsed": false,
     "input": [
      "def sqrt_seq(a):\n",
      "    x = a/2.0\n",
      "    while True:\n",
      "        x = (x + a/x)/2\n",
      "        yield x, abs(x*x - a)"
     ],
     "language": "python",
     "metadata": {},
     "outputs": [],
     "prompt_number": 1
    },
    {
     "cell_type": "code",
     "collapsed": false,
     "input": [
      "for x, tol in sqrt_seq(125):\n",
      "    print x, tol\n",
      "    if tol < 1e-9:\n",
      "        break"
     ],
     "language": "python",
     "metadata": {},
     "outputs": [
      {
       "output_type": "stream",
       "stream": "stdout",
       "text": [
        "32.25 915.0625\n",
        "18.0629844961 201.271408907\n",
        "12.4916070488 31.0402466609\n",
        "11.2491629605 1.54366731242\n",
        "11.1805504194 0.00470768079913\n",
        "11.1803398895 4.43228174163e-08\n",
        "11.1803398875 1.42108547152e-14\n"
       ]
      }
     ],
     "prompt_number": 6
    },
    {
     "cell_type": "code",
     "collapsed": false,
     "input": [
      "11.1803398895**2"
     ],
     "language": "python",
     "metadata": {},
     "outputs": [
      {
       "metadata": {},
       "output_type": "pyout",
       "prompt_number": 5,
       "text": [
        "125.0000000447449"
       ]
      }
     ],
     "prompt_number": 5
    },
    {
     "cell_type": "code",
     "collapsed": false,
     "input": [],
     "language": "python",
     "metadata": {},
     "outputs": []
    }
   ],
   "metadata": {}
  }
 ]
}