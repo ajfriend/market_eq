{
 "metadata": {
  "name": "",
  "signature": "sha256:bf7346c8af68d67f5315d3104ecfe427a70a1c44a67cfa66ab6fe8d1e2ef37d4"
 },
 "nbformat": 3,
 "nbformat_minor": 0,
 "worksheets": [
  {
   "cells": [
    {
     "cell_type": "markdown",
     "metadata": {},
     "source": [
      "# TODO\n",
      "- exploit sparsity in A and B\n",
      "- don't need to form all of $x_{ij}$, all constraints, or all terms in sum on right hand side\n",
      "- if $a_{ij} = 0$, then don't need variable $x_{ij}$ \n",
      "- if $a_{ij} = 0$, then don't need a constraint\n",
      "- if $b_{ij} = 0$, then don't need term in sum\n",
      "- if some of these things are zero, will cvxpy remove those constraints/terms automatically?\n",
      "- iterative refinement for sols with SCS?\n",
      "\n",
      "- split by agent\n",
      "- split by good\n",
      "- proximal point/bundle method on expected wanted goods and active constraints\n",
      "- related to column generation?\n",
      "- dual of the problem gives a natural distributed algorithm?\n",
      "\n",
      "- got runtimes on square systems, but also get runtimes on fat and skinny systems\n",
      "- how do the variables and constraints (in SCS) scale with the problem size?\n",
      "- i wonder if runtime depends on density? fewer options make the problem easier to solve?\n",
      "- have a function to evaluate quality of prices/allocation solution. maybe use a rounding method. send things to zero..\n",
      "- compare direct and indirect SCS solvers\n",
      "- make a instance matrix and try a bunch of sizes, shapes, densities, methods, and record solve times and parse times on kona64\n",
      "- iterative refinement on allocation?\n",
      "- pairwise effects? something like a min in the utility function?\n",
      "- is it true that some of these functions are not cone-representable? (at least by using socp, sdp, exp, or pwrcone)\n",
      "- try coding up the arrow-debreu market with in the log-space formulation\n",
      "\n",
      "# Arrow-Debreu Market Equilibrium\n",
      "\n",
      "We have a market with $m$ agents and $n$ goods.\n",
      "Agent $i$ initially has amount $b_{ij}$ of good $j$.\n",
      "Agent $i$ achieves utility $a_{ij} x_{ij}$ when he is allocated amount $x_{ij}$ of good $j$. Thus agent $i$\u2019s total utility is $\\sum_j a_{ij} x_{ij}$ when he is allocated $(x_{i1},...,x_{in})$.\n",
      "A market equilibrium is a set of allocations of goods to agents $x_{ij}$ together with a set of good prices $p \\in \\mathbf{R}^n$ such that at equilibrium\n",
      "- all goods are sold at the equilibrium price.\n",
      "- each agent maximizes his total utility.\n",
      "\n",
      "\n",
      "It can be shown that a market equilibrium always exists and can be found by solving the\n",
      "following problem:\n",
      "\n",
      "\\begin{array}{ll}\n",
      "\\mbox{find} & x, p \\\\\n",
      "\\mbox{subject to} & \\sum_k a_{ik} x_{ik} \\geq a_{ij} \\sum_k b_{ik} \\frac{p_k}{p_j}, \\forall i,j\\\\\n",
      "& \\sum_i x_{ij} = \\sum_i b_{ij}, \\forall j\\\\\n",
      "& x_{ij} \\geq 0, p_j \\geq 0\n",
      "\\end{array}\n",
      "\n",
      "\n",
      "The above problem is not a convex optimization problem but can be easily transformed to one by a simple change of variables. Specifically let $p_j = \\exp(\\phi_j)$.\n",
      "Then the problem becomes\n",
      "\n",
      "\\begin{array}{ll}\n",
      "\\mbox{find} & x, \\phi \\\\\n",
      "\\mbox{subject to} & \\sum_k a_{ik} x_{ik} \\geq a_{ij} \\sum_k b_{ik} e^{\\phi_k - \\phi_j}, \\forall i,j\\\\\n",
      "& \\sum_i x_{ij} = \\sum_i b_{ij}, \\forall j\\\\\n",
      "& x_{ij} \\geq 0\n",
      "\\end{array}\n",
      "\n",
      "This is a convex feasibility problem and can be solved in a variety of ways."
     ]
    },
    {
     "cell_type": "markdown",
     "metadata": {},
     "source": [
      "# Other utility functions\n",
      "\n",
      "We can generalize beyond linear utility functions. The market equilibrium constraints generalize to\n",
      "\n",
      "\\begin{equation}\n",
      "\\nabla u_i(x_i)^T x_i \\geq \\nabla_j u_i(x_i) \\sum_{k=1}^n w_{ik} e^{\\phi_k - \\phi_j},\\quad \\forall i,j,\n",
      "\\end{equation}\n",
      "\n",
      "We'll write it as\n",
      "\\begin{equation}\n",
      "\\log(\\nabla u_i(x_i)^T x_i) \\geq \\log(\\nabla_j u_i(x_i)) + \\log( \\sum_{k=1}^n w_{ik} e^{\\phi_k - \\phi_j}),\\quad \\forall i,j,\n",
      "\\end{equation}\n",
      "or\n",
      "\\begin{equation}\n",
      "\\log(\\nabla u_i(x_i)^T x_i) + \\phi_j \\geq \\log(\\nabla_j u_i(x_i)) + \\log( \\sum_{k=1}^n w_{ik} e^{\\phi_k}),\\quad \\forall i,j.\n",
      "\\end{equation}\n",
      "\n",
      "The formulation is convex both of these conditions are true:\n",
      "- $\\log(\\nabla u_i(x_i)^T x_i)$ is concave\n",
      "- $\\log(\\nabla_j u_i(x_i))$ is convex\n",
      "\n",
      "This holds for a few functions:\n",
      "- $u(x) = a^T x$\n",
      "- $u(x) = \\sum_{j=1}^n a_j (x_j+ b_j)^{d_j}$, for $a_j, b_j \\geq 0$ and $0 \\leq d_j \\leq 1$\n",
      "- $u(x) = \\sum_{j=1}^n a_j \\log(x_j+ b_j)$, for $a_j, b_j \\geq 0$\n",
      "\n",
      "These cover some special cases, given in Chen, Ye, Zhang.\n",
      "\n",
      "Other functions to consider:\n",
      "- all constant elasticity functions\n",
      "\\begin{equation}\n",
      "u(x) =  \\left(\\sum_{j=1}^n (a_j x_j)^{(\\sigma-1)/\\sigma} \\right)^{\\sigma/(\\sigma-1)}\n",
      "\\end{equation}\n",
      "for $a_j \\geq 0$ and $0 < \\sigma < \\infty$.\n",
      "- nested versions of the above\n",
      "- piecewise linear concave functions\n",
      "\\begin{equation}\n",
      "u(x) = \\min_k \\lbrace a^{kT} x \\rbrace,\n",
      "\\end{equation}\n",
      "where $a^k \\geq 0$ for all $k$.\n",
      "\n",
      "# Utility function specifics\n",
      "\n",
      "The following utility functions maintain the convex formulation, but unfortunately, do not seem to be representable as cone programs with any of the standard cones, SOCP, SDP, EXP, or power cones.\n",
      "\n",
      "## $u(x) = \\sum_{j=1}^n a_j (x_j+ b_j)^{d_j}$, for $a_j, b_j \\geq 0$ and $0 < d_j \\leq 1$\n",
      "- $\\log(\\nabla u_i(x_i)^T x_i) = \\log \\left( \\sum_{j=1}^n a_j d_j x_j(x_j+b_j)^{d_j-1} \\right)$ is concave because $\\log$ is concave and increasing and $x_j(x_j+b_j)^{d_j-1}$ is concave\n",
      "- $\\log(\\nabla_j u_i(x_i)) = \\log (a_j d_j) + (d_j-1) \\log(x_j + b_j)$ is convex\n",
      "\n",
      "## $u(x) = \\sum_{j=1}^n a_j \\log(x_j+ b_j)$, for $a_j, b_j \\geq 0$\n",
      "- $\\log(\\nabla u_i(x_i)^T x_i) = \\log \\left( \\sum_{j=1}^n a_j x_j(x_j+b_j)^{-1} \\right)$ is concave\n",
      "- $\\log(\\nabla_j u_i(x_i)) = \\log (a_j) - \\log(x_j + b_j)$ is convex"
     ]
    },
    {
     "cell_type": "markdown",
     "metadata": {},
     "source": [
      "# Dense formulation"
     ]
    },
    {
     "cell_type": "code",
     "collapsed": false,
     "input": [
      "import cvxpy as cvx\n",
      "import numpy as np\n",
      "import matplotlib.pyplot as plt\n",
      "from collections import defaultdict\n",
      "\n",
      "np.random.seed(2)\n",
      "m = 15\n",
      "n = 16\n",
      "A = np.random.randn(m,n)**2\n",
      "B = np.random.rand(m,n)\n",
      "\n",
      "def residual(x,phi,A,B):\n",
      "    '''Return 3 residuals corresponding to market constraints\n",
      "    Agent residual, x>=0, good conservation\n",
      "    '''\n",
      "    m, n = x.shape\n",
      "    \n",
      "    p = np.exp(phi)\n",
      "    Ax = np.sum(A*x,axis=1)\n",
      "    \n",
      "    Bp = np.sum(B*p,axis=1)\n",
      "    Ap = A/np.exp(phi[np.newaxis,:])\n",
      "    allin = np.max(Ap*Bp[:,np.newaxis],axis=1)\n",
      "    \n",
      "    return np.max(allin - Ax), max(-np.min(x),0), np.linalg.norm(np.sum(x-B,axis=0),ord=1)\n",
      "\n",
      "def polish(x,B):\n",
      "    y = np.maximum(x,0)\n",
      "    y *= B.sum(axis=0)/y.sum(axis=0)\n",
      "    return y"
     ],
     "language": "python",
     "metadata": {},
     "outputs": [],
     "prompt_number": 1
    },
    {
     "cell_type": "code",
     "collapsed": false,
     "input": [
      "%%time\n",
      "x = cvx.Variable(m,n)\n",
      "phi = cvx.Variable(n)\n",
      "\n",
      "constr = [x >= 0, sum(x[i,:] for i in range(m)).T == B.sum(axis=0), cvx.sum_entries(phi) == 0]\n",
      "\n",
      "for i in range(m):\n",
      "    for j in range(n):\n",
      "        constr += [x[i,:]*A[i,:] >= A[i,j]*sum(B[i,k]*cvx.exp(phi[k]-phi[j]) for k in range(n)) ]\n",
      "\n",
      "prob = cvx.Problem(cvx.Minimize(0),constr)\n",
      "result = prob.solve(solver=cvx.SCS, verbose=True)\n",
      "\n",
      "x = np.array(x.value)\n",
      "phi = np.array(phi.value).flatten()\n",
      "y = polish(x,B)"
     ],
     "language": "python",
     "metadata": {},
     "outputs": [
      {
       "output_type": "stream",
       "stream": "stdout",
       "text": [
        "----------------------------------------------------------------------------\n",
        "\tscs v1.0 - Splitting Conic Solver\n",
        "\t(c) Brendan O'Donoghue, Stanford University, 2012\n",
        "----------------------------------------------------------------------------\n",
        "Method: sparse-direct, nnz in A = 19456\n",
        "EPS = 1.00e-03, ALPHA = 1.80, MAX_ITERS = 2500, NORMALIZE = 1, SCALE = 5.00\n",
        "Variables n = 4096, constraints m = 12017\n",
        "Cones:\tprimal zero / dual free vars: 17\n",
        "\tlinear vars: 480\n",
        "\tsoc vars: 0, soc blks: 0\n",
        "\tsd vars: 0, sd blks: 0\n",
        "\texp vars: 11520, dual exp vars: 0\n",
        "----------------------------------------------------------------------------\n",
        " Iter | pri res | dua res | rel gap | pri obj | dua obj |  kappa  | time (s)\n",
        "============================================================================\n",
        "     0|"
       ]
      },
      {
       "output_type": "stream",
       "stream": "stdout",
       "text": [
        "      nan  1.59e+00       nan       nan       inf  1.01e+02  7.05e-02 \n",
        "   100|"
       ]
      },
      {
       "output_type": "stream",
       "stream": "stdout",
       "text": [
        " 1.79e-01  9.37e-03  1.04e-02  0.00e+00  1.05e-02  0.00e+00  1.21e+00 \n",
        "   200|"
       ]
      },
      {
       "output_type": "stream",
       "stream": "stdout",
       "text": [
        " 4.74e-02  5.65e-03  9.72e-04  0.00e+00 -9.73e-04  0.00e+00  1.85e+00 \n",
        "   300|"
       ]
      },
      {
       "output_type": "stream",
       "stream": "stdout",
       "text": [
        " 4.88e-02  1.45e-03  6.50e-04  0.00e+00  6.51e-04  8.53e-16  2.46e+00 \n",
        "   400|"
       ]
      },
      {
       "output_type": "stream",
       "stream": "stdout",
       "text": [
        " 2.65e-02  1.14e-03  5.64e-04  0.00e+00 -5.64e-04  0.00e+00  3.10e+00 \n",
        "   500|"
       ]
      },
      {
       "output_type": "stream",
       "stream": "stdout",
       "text": [
        " 7.04e-03  6.67e-04  2.98e-04  0.00e+00  2.98e-04  8.53e-16  3.70e+00 \n",
        "   600|"
       ]
      },
      {
       "output_type": "stream",
       "stream": "stdout",
       "text": [
        " 6.84e-03  1.36e-04  1.78e-05  0.00e+00 -1.78e-05  8.53e-16  4.34e+00 \n",
        "   700|"
       ]
      },
      {
       "output_type": "stream",
       "stream": "stdout",
       "text": [
        " 3.73e-03  1.49e-04  5.84e-05  0.00e+00 -5.84e-05  8.53e-16  4.97e+00 \n",
        "   800|"
       ]
      },
      {
       "output_type": "stream",
       "stream": "stdout",
       "text": [
        " 1.04e-03  9.82e-05  6.57e-06  0.00e+00  6.57e-06  0.00e+00  5.58e+00 \n",
        "   820|"
       ]
      },
      {
       "output_type": "stream",
       "stream": "stdout",
       "text": [
        " 9.71e-04  7.67e-05  7.64e-06  0.00e+00 -7.64e-06  1.71e-15  5.70e+00 \n",
        "----------------------------------------------------------------------------\n",
        "Status: Solved\n",
        "Timing: Solve time: 5.70e+00s, setup time: 1.17e-02s\n",
        "\tLin-sys: nnz in L factor: 54954, avg solve time: 3.14e-04s\n",
        "\tCones: avg projection time: 6.41e-03s\n",
        "----------------------------------------------------------------------------\n",
        "Error metrics:\n",
        "|Ax + s - b|_2 / (1 + |b|_2) = 9.7093e-04\n",
        "|A'y + c|_2 / (1 + |c|_2) = 7.6678e-05\n",
        "|c'x + b'y| / (1 + |c'x| + |b'y|) = 7.6359e-06\n",
        "dist(s, K) = 0, dist(y, K*) = 0, s'y = 0\n",
        "----------------------------------------------------------------------------\n",
        "c'x = 0.0000, -b'y = -0.0000\n",
        "============================================================================\n",
        "CPU times: user 38.7 s, sys: 188 ms, total: 38.8 s"
       ]
      },
      {
       "output_type": "stream",
       "stream": "stdout",
       "text": [
        "\n",
        "Wall time: 39.8 s\n"
       ]
      }
     ],
     "prompt_number": 7
    },
    {
     "cell_type": "code",
     "collapsed": false,
     "input": [
      "print residual(x,phi,A,B)\n",
      "print residual(y,phi,A,B)"
     ],
     "language": "python",
     "metadata": {},
     "outputs": [
      {
       "output_type": "stream",
       "stream": "stdout",
       "text": [
        "(0.048836230699208727, 0.00034091038900012837, 0.020839782965942119)\n",
        "(0.036345340478717958, -0.0, 1.2684298056342413e-14)\n"
       ]
      }
     ],
     "prompt_number": 8
    },
    {
     "cell_type": "code",
     "collapsed": false,
     "input": [
      "prices = np.exp(phi)\n",
      "prices"
     ],
     "language": "python",
     "metadata": {},
     "outputs": [
      {
       "metadata": {},
       "output_type": "pyout",
       "prompt_number": 9,
       "text": [
        "array([ 1.52389526,  0.95714723,  0.89879602,  0.92196281,  0.75753829,\n",
        "        0.54880337,  1.4122508 ,  0.48957854,  1.57722223,  0.81151708,\n",
        "        0.8969982 ,  1.03464151,  1.84777952,  1.13746157,  0.86487746,\n",
        "        1.33297662])"
       ]
      }
     ],
     "prompt_number": 9
    },
    {
     "cell_type": "markdown",
     "metadata": {},
     "source": [
      "# Sparse formulation\n",
      "\n",
      "CVXPY automatically exploits some of the sparsity, reducing the number of variables and constraints based on the zero entries in A and B."
     ]
    },
    {
     "cell_type": "code",
     "collapsed": false,
     "input": [
      "import scipy.sparse as sp\n",
      "\n",
      "np.random.seed(3)\n",
      "m = 20\n",
      "n = 21\n",
      "\n",
      "A = sp.rand(m, int(1.2*n), density=0.3).toarray()\n",
      "B = sp.rand(m, int(1.2*n), density=0.3).toarray()\n",
      "\n",
      "A = A[:,0:n]\n",
      "B = B[:,0:n]\n",
      "\n",
      "fig = plt.figure(figsize=(9,9))\n",
      "ax1 = plt.subplot(121)\n",
      "ax2 = plt.subplot(122)\n",
      "ax1.matshow(A)\n",
      "ax2.matshow(B)\n",
      "\n",
      "def checkMat(A):\n",
      "    return np.all((A > 0).sum(axis=0) > 0) and np.all((A > 0).sum(axis=1) > 0)\n",
      "\n",
      "print checkMat(A)\n",
      "print checkMat(B)"
     ],
     "language": "python",
     "metadata": {},
     "outputs": [
      {
       "output_type": "stream",
       "stream": "stdout",
       "text": [
        "True\n",
        "True\n"
       ]
      },
      {
       "metadata": {},
       "output_type": "display_data",
       "png": "[encoded data removed]",
       "text": [
        "<matplotlib.figure.Figure at 0x110b04510>"
       ]
      }
     ],
     "prompt_number": 5
    },
    {
     "cell_type": "code",
     "collapsed": false,
     "input": [
      "%%time\n",
      "x = cvx.Variable(m,n)\n",
      "phi = cvx.Variable(n)\n",
      "\n",
      "constr = [x >= 0, sum(x[i,:] for i in range(m)).T == B.sum(axis=0) ]\n",
      "\n",
      "constr += [x[i,:]*A[i,:] >= A[i,j]*sum(B[i,k]*cvx.exp(phi[k]-phi[j]) for k in range(n)) for i in range(m) for j in range(n)]\n",
      "\n",
      "prob = cvx.Problem(cvx.Minimize(0),constr)\n",
      "result = prob.solve(solver=cvx.SCS, verbose=True)\n",
      "\n",
      "x = np.array(x.value)\n",
      "phi = np.array(phi.value).flatten()\n",
      "y = polish(x,B)"
     ],
     "language": "python",
     "metadata": {},
     "outputs": [
      {
       "output_type": "stream",
       "stream": "stdout",
       "text": [
        "----------------------------------------------------------------------------\n",
        "\tSCS v1.0.5 - Splitting Conic Solver\n",
        "\t(c) Brendan O'Donoghue, Stanford University, 2012\n",
        "----------------------------------------------------------------------------\n",
        "Lin-sys: sparse-direct, nnz in A = 23240\n",
        "EPS = 1.00e-03, ALPHA = 1.80, MAX_ITERS = 2500, NORMALIZE = 1, SCALE = 5.00\n",
        "Variables n = 3866, constraints m = 8946\n",
        "Cones:\tprimal zero / dual free vars: 51\n",
        "\tlinear vars: 5100\n",
        "\texp vars: 3795, dual exp vars: 0\n",
        "Setup time: 9.20e-03s\n",
        "----------------------------------------------------------------------------\n",
        " Iter | pri res | dua res | rel gap | pri obj | dua obj | kap/tau | time (s)\n",
        "----------------------------------------------------------------------------\n",
        "     0|      nan  2.52e+00       nan       nan       inf       inf  2.32e-02 \n",
        "   100|"
       ]
      },
      {
       "output_type": "stream",
       "stream": "stdout",
       "text": [
        " 3.14e-02  4.11e-04  1.37e-04  0.00e+00 -1.37e-04  0.00e+00  6.60e-01 \n",
        "   200|"
       ]
      },
      {
       "output_type": "stream",
       "stream": "stdout",
       "text": [
        " 1.90e-02  1.35e-04  3.30e-05  0.00e+00  3.30e-05  0.00e+00  1.24e+00 \n",
        "   300|"
       ]
      },
      {
       "output_type": "stream",
       "stream": "stdout",
       "text": [
        " 9.59e-03  8.93e-05  2.65e-05  0.00e+00  2.65e-05  0.00e+00  1.89e+00 \n",
        "   400|"
       ]
      },
      {
       "output_type": "stream",
       "stream": "stdout",
       "text": [
        " 9.40e-03  4.45e-05  8.84e-07  0.00e+00  8.84e-07  0.00e+00  2.48e+00 \n",
        "   500|"
       ]
      },
      {
       "output_type": "stream",
       "stream": "stdout",
       "text": [
        " 6.56e-03  3.63e-05  4.47e-06  0.00e+00 -4.47e-06  0.00e+00  3.07e+00 \n",
        "   600|"
       ]
      },
      {
       "output_type": "stream",
       "stream": "stdout",
       "text": [
        " 6.17e-03  2.59e-05  1.69e-05  0.00e+00  1.69e-05  0.00e+00  3.78e+00 \n",
        "   700|"
       ]
      },
      {
       "output_type": "stream",
       "stream": "stdout",
       "text": [
        " 6.47e-03  1.85e-05  1.13e-05  0.00e+00 -1.13e-05  0.00e+00  4.47e+00 \n",
        "   800|"
       ]
      },
      {
       "output_type": "stream",
       "stream": "stdout",
       "text": [
        " 5.40e-03  1.39e-05  9.04e-07  0.00e+00 -9.04e-07  0.00e+00  5.07e+00 \n",
        "   900|"
       ]
      },
      {
       "output_type": "stream",
       "stream": "stdout",
       "text": [
        " 5.29e-03  9.72e-06  8.13e-06  0.00e+00 -8.13e-06  0.00e+00  5.66e+00 \n",
        "  1000|"
       ]
      },
      {
       "output_type": "stream",
       "stream": "stdout",
       "text": [
        " 3.53e-03  9.45e-06  3.05e-06  0.00e+00  3.05e-06  0.00e+00  6.23e+00 \n",
        "  1100|"
       ]
      },
      {
       "output_type": "stream",
       "stream": "stdout",
       "text": [
        " 2.93e-03  8.75e-06  4.77e-06  0.00e+00 -4.77e-06  0.00e+00  6.88e+00 \n",
        "  1200|"
       ]
      },
      {
       "output_type": "stream",
       "stream": "stdout",
       "text": [
        " 2.39e-03  8.29e-06  5.96e-07  0.00e+00 -5.96e-07  0.00e+00  7.55e+00 \n",
        "  1300|"
       ]
      },
      {
       "output_type": "stream",
       "stream": "stdout",
       "text": [
        " 1.52e-03  7.04e-06  1.14e-06  0.00e+00  1.14e-06  0.00e+00  8.13e+00 \n",
        "  1400|"
       ]
      },
      {
       "output_type": "stream",
       "stream": "stdout",
       "text": [
        " 1.72e-03  5.94e-06  3.14e-06  0.00e+00 -3.14e-06  0.00e+00  8.72e+00 \n",
        "  1500|"
       ]
      },
      {
       "output_type": "stream",
       "stream": "stdout",
       "text": [
        " 1.31e-03  4.55e-06  2.16e-07  0.00e+00 -2.16e-07  0.00e+00  9.29e+00 \n",
        "  1540|"
       ]
      },
      {
       "output_type": "stream",
       "stream": "stdout",
       "text": [
        " 7.52e-04  4.63e-06  1.77e-06  0.00e+00  1.77e-06  0.00e+00  9.59e+00 \n",
        "----------------------------------------------------------------------------\n",
        "Status: Solved\n",
        "Timing: Total solve time: 9.59e+00s\n",
        "\tLin-sys: nnz in L factor: 39745, avg solve time: 2.56e-04s\n",
        "\tCones: avg projection time: 5.80e-03s\n",
        "----------------------------------------------------------------------------\n",
        "Error metrics:\n",
        "|Ax + s - b|_2 / (1 + |b|_2) = 7.5238e-04\n",
        "|A'y + c|_2 / (1 + |c|_2) = 4.6275e-06\n",
        "|c'x + b'y| / (1 + |c'x| + |b'y|) = 1.7723e-06\n",
        "dist(s, K) = 0, dist(y, K*) = 0, s'y = 0\n",
        "----------------------------------------------------------------------------\n",
        "c'x = 0.0000, -b'y = 0.0000\n",
        "============================================================================\n",
        "CPU times: user 1min 11s, sys: 1.45 s, total: 1min 13s"
       ]
      },
      {
       "output_type": "stream",
       "stream": "stdout",
       "text": [
        "\n",
        "Wall time: 1min 16s\n"
       ]
      }
     ],
     "prompt_number": 11
    },
    {
     "cell_type": "code",
     "collapsed": false,
     "input": [
      "fig = plt.figure(figsize=(9,9))\n",
      "ax1 = plt.subplot(121)\n",
      "ax2 = plt.subplot(122)\n",
      "ax1.matshow(A)\n",
      "ax2.matshow(x)\n",
      "\n",
      "print residual(x,phi,A,B)\n",
      "print residual(y,phi,A,B)"
     ],
     "language": "python",
     "metadata": {},
     "outputs": [
      {
       "output_type": "stream",
       "stream": "stdout",
       "text": [
        "(0.0012681773036966604, 0.00036255014434923981, 0.12181660554613338)\n",
        "(0.022632498289412828, -0.0, 7.3248311679063784e-14)\n"
       ]
      },
      {
       "metadata": {},
       "output_type": "display_data",
       "png": "[encoded data removed]",
       "text": [
        "<matplotlib.figure.Figure at 0x109bf5890>"
       ]
      }
     ],
     "prompt_number": 12
    },
    {
     "cell_type": "markdown",
     "metadata": {},
     "source": [
      "# Next sparse formulation\n",
      "\n",
      "We'll try to exploit the sparsity further, beyond what CVXPY does automatically, by hand-coding some sparsity information."
     ]
    },
    {
     "cell_type": "code",
     "collapsed": false,
     "input": [
      "%%time\n",
      "x = defaultdict(int)\n",
      "phi = cvx.Variable(n)\n",
      "for i in range(m):\n",
      "    for j in range(n):\n",
      "        if A[i,j] > 0:\n",
      "            x[(i,j)] = cvx.Variable()\n",
      "            \n",
      "constr = []\n",
      "Btot = B.sum(axis=0)\n",
      "for j in range(n):\n",
      "    constr += [sum(x[(i,j)] for i in range(m) if (i,j) in x) == Btot[j]]\n",
      "\n",
      "constr += [val >= 0 for val in x.values() ]\n",
      "    \n",
      "for i in range(m):\n",
      "    util = sum(x[(i,j)]*A[i,j] for j in range(n) if A[i,j] > 0 )\n",
      "    for j in range(n):\n",
      "        if A[i,j] > 0:\n",
      "            constr += [util >= A[i,j]*sum(B[i,k]*cvx.exp(phi[k]-phi[j]) for k in range(n) if B[i,k] > 0) ]\n",
      "\n",
      "prob = cvx.Problem(cvx.Minimize(0),constr)\n",
      "result = prob.solve(solver=cvx.SCS, verbose=True)"
     ],
     "language": "python",
     "metadata": {},
     "outputs": [
      {
       "output_type": "stream",
       "stream": "stdout",
       "text": [
        "----------------------------------------------------------------------------\n",
        "\tSCS v1.0.5 - Splitting Conic Solver\n",
        "\t(c) Brendan O'Donoghue, Stanford University, 2012\n",
        "----------------------------------------------------------------------------\n",
        "Lin-sys: sparse-direct, nnz in A = 4535\n",
        "EPS = 1.00e-03, ALPHA = 1.80, MAX_ITERS = 2500, NORMALIZE = 1, SCALE = 5.00\n",
        "Variables n = 1001, constraints m = 2831\n",
        "Cones:\tprimal zero / dual free vars: 21\n",
        "\tlinear vars: 260\n",
        "\texp vars: 2550, dual exp vars: 0\n",
        "Setup time: 2.20e-03s\n",
        "----------------------------------------------------------------------------\n",
        " Iter | pri res | dua res | rel gap | pri obj | dua obj | kap/tau | time (s)\n",
        "----------------------------------------------------------------------------\n",
        "     0|      nan  2.73e+00       nan       nan       inf       inf  1.43e-02 \n",
        "   100|"
       ]
      },
      {
       "output_type": "stream",
       "stream": "stdout",
       "text": [
        " 4.57e-03  1.25e-04  8.58e-05  0.00e+00  8.58e-05  1.66e-18  4.06e-01 \n",
        "   200|"
       ]
      },
      {
       "output_type": "stream",
       "stream": "stdout",
       "text": [
        " 1.03e-03  2.28e-05  2.45e-05  0.00e+00 -2.45e-05  1.66e-18  7.52e-01 \n",
        "   220|"
       ]
      },
      {
       "output_type": "stream",
       "stream": "stdout",
       "text": [
        " 8.09e-04  1.53e-05  2.87e-05  0.00e+00 -2.87e-05  1.66e-18  8.61e-01 \n",
        "----------------------------------------------------------------------------\n",
        "Status: Solved\n",
        "Timing: Total solve time: 8.61e-01s\n",
        "\tLin-sys: nnz in L factor: 9599, avg solve time: 5.26e-05s\n",
        "\tCones: avg projection time: 3.79e-03s\n",
        "----------------------------------------------------------------------------\n",
        "Error metrics:\n",
        "|Ax + s - b|_2 / (1 + |b|_2) = 8.0889e-04\n",
        "|A'y + c|_2 / (1 + |c|_2) = 1.5298e-05\n",
        "|c'x + b'y| / (1 + |c'x| + |b'y|) = 2.8726e-05\n",
        "dist(s, K) = 0, dist(y, K*) = 0, s'y = 0\n",
        "----------------------------------------------------------------------------\n",
        "c'x = 0.0000, -b'y = -0.0000\n",
        "============================================================================\n",
        "CPU times: user 7.9 s, sys: 59 ms, total: 7.96 s"
       ]
      },
      {
       "output_type": "stream",
       "stream": "stdout",
       "text": [
        "\n",
        "Wall time: 8.3 s\n"
       ]
      }
     ],
     "prompt_number": 7
    },
    {
     "cell_type": "code",
     "collapsed": false,
     "input": [
      "xsol = np.zeros((m,n))\n",
      "for k,v in x.iteritems():\n",
      "    xsol[k] = v.value\n",
      "\n",
      "fig = plt.figure(figsize=(9,9))\n",
      "ax1 = plt.subplot(121)\n",
      "ax2 = plt.subplot(122)\n",
      "ax1.matshow(A)\n",
      "ax2.matshow(xsol)"
     ],
     "language": "python",
     "metadata": {},
     "outputs": [
      {
       "metadata": {},
       "output_type": "pyout",
       "prompt_number": 8,
       "text": [
        "<matplotlib.image.AxesImage at 0x111a2bbd0>"
       ]
      },
      {
       "metadata": {},
       "output_type": "display_data",
       "png": "[encoded data removed]",
       "text": [
        "<matplotlib.figure.Figure at 0x11078b550>"
       ]
      }
     ],
     "prompt_number": 8
    },
    {
     "cell_type": "markdown",
     "metadata": {},
     "source": [
      "# Log-space sparse formulation\n",
      "\n",
      "In formulating the log-space version of the convex intersection problem, we find that we are forced to explicitly remove the constraints or terms involving zero entries of A and B."
     ]
    },
    {
     "cell_type": "code",
     "collapsed": false,
     "input": [
      "%%time\n",
      "x = cvx.Variable(m,n)\n",
      "phi = cvx.Variable(n)\n",
      "\n",
      "constr = [x >= 0, sum(x[i,:] for i in range(m)).T == B.sum(axis=0) ]\n",
      "\n",
      "for i in range(m):\n",
      "    util = cvx.log(x[i,:]*A[i,:])\n",
      "    \n",
      "    tmp = cvx.Variable(np.sum(B[i,:] > 0))\n",
      "    constr += [tmp[j] == val for j, val in enumerate([np.log(B[i,k]) + phi[k] for k in range(n) if B[i,k] > 0])]\n",
      "    cash = cvx.log_sum_exp(tmp)\n",
      "    \n",
      "    #would like to do it this way:\n",
      "    #cash = cvx.log_sum_exp([np.log(B[i,k]) + phi[k] for k in range(n) if B[i,k] > 0])\n",
      "    \n",
      "    constr += [util + phi[j] >= cvx.log(A[i,j]) + cash for j in range(n) if A[i,j] > 0]\n",
      "    \n",
      "prob = cvx.Problem(cvx.Minimize(0),constr)\n",
      "result = prob.solve(solver=cvx.SCS, verbose=True)\n",
      "\n",
      "# x = np.array(x.value)\n",
      "# phi = np.array(phi.value).flatten()\n",
      "# y = polish(x,B)"
     ],
     "language": "python",
     "metadata": {},
     "outputs": [
      {
       "output_type": "stream",
       "stream": "stdout",
       "text": [
        "----------------------------------------------------------------------------\n",
        "\tSCS v1.0.5 - Splitting Conic Solver\n",
        "\t(c) Brendan O'Donoghue, Stanford University, 2012\n",
        "----------------------------------------------------------------------------\n",
        "Lin-sys: sparse-direct, nnz in A = 26482\n",
        "EPS = 1.00e-03, ALPHA = 1.80, MAX_ITERS = 2500, NORMALIZE = 1, SCALE = 5.00\n",
        "Variables n = 11643, constraints m = 13699\n",
        "Cones:\tprimal zero / dual free vars: 722\n",
        "\tlinear vars: 10814\n",
        "\texp vars: 2163, dual exp vars: 0\n",
        "Setup time: 1.24e-02s\n",
        "----------------------------------------------------------------------------\n",
        " Iter | pri res | dua res | rel gap | pri obj | dua obj | kap/tau | time (s)\n",
        "----------------------------------------------------------------------------\n",
        "     0|      nan  3.45e+00       nan       nan       inf       inf  1.45e-02 \n",
        "   100|"
       ]
      },
      {
       "output_type": "stream",
       "stream": "stdout",
       "text": [
        " 1.89e-02  2.85e-05  3.38e-06  0.00e+00  3.38e-06  4.15e-19  8.51e-01 \n",
        "   200|"
       ]
      },
      {
       "output_type": "stream",
       "stream": "stdout",
       "text": [
        " 8.04e-03  1.17e-05  1.46e-07  0.00e+00  1.46e-07  4.15e-19  1.70e+00 \n",
        "   300|"
       ]
      },
      {
       "output_type": "stream",
       "stream": "stdout",
       "text": [
        " 4.67e-03  7.59e-06  2.98e-06  0.00e+00  2.98e-06  4.15e-19  2.66e+00 \n",
        "   400|"
       ]
      },
      {
       "output_type": "stream",
       "stream": "stdout",
       "text": [
        " 3.51e-03  5.04e-06  1.24e-06  0.00e+00  1.24e-06  4.15e-19  3.54e+00 \n",
        "   500|"
       ]
      },
      {
       "output_type": "stream",
       "stream": "stdout",
       "text": [
        " 2.31e-03  4.31e-06  9.81e-07  0.00e+00  9.81e-07  4.15e-19  4.39e+00 \n",
        "   600|"
       ]
      },
      {
       "output_type": "stream",
       "stream": "stdout",
       "text": [
        " 1.84e-03  3.37e-06  9.79e-07  0.00e+00  9.79e-07  4.15e-19  5.29e+00 \n",
        "   700|"
       ]
      },
      {
       "output_type": "stream",
       "stream": "stdout",
       "text": [
        " 1.02e-03  3.06e-06  1.26e-06  0.00e+00  1.26e-06  4.15e-19  6.15e+00 \n",
        "   800|"
       ]
      },
      {
       "output_type": "stream",
       "stream": "stdout",
       "text": [
        " 9.92e-04  2.55e-06  7.63e-07  0.00e+00  7.63e-07  4.15e-19  7.00e+00 \n",
        "----------------------------------------------------------------------------\n",
        "Status: Solved\n",
        "Timing: Total solve time: 7.00e+00s\n",
        "\tLin-sys: nnz in L factor: 63605, avg solve time: 4.30e-04s\n",
        "\tCones: avg projection time: 8.00e-03s\n",
        "----------------------------------------------------------------------------\n",
        "Error metrics:\n",
        "|Ax + s - b|_2 / (1 + |b|_2) = 9.9218e-04\n",
        "|A'y + c|_2 / (1 + |c|_2) = 2.5542e-06\n",
        "|c'x + b'y| / (1 + |c'x| + |b'y|) = 7.6311e-07\n",
        "dist(s, K) = 0, dist(y, K*) = 0, s'y = 0\n",
        "----------------------------------------------------------------------------\n",
        "c'x = 0.0000, -b'y = 0.0000\n",
        "============================================================================\n",
        "CPU times: user 13.4 s, sys: 44 ms, total: 13.4 s"
       ]
      },
      {
       "output_type": "stream",
       "stream": "stdout",
       "text": [
        "\n",
        "Wall time: 14.1 s\n"
       ]
      }
     ],
     "prompt_number": 34
    },
    {
     "cell_type": "code",
     "collapsed": false,
     "input": [
      "fig = plt.figure(figsize=(9,9))\n",
      "ax1 = plt.subplot(121)\n",
      "ax2 = plt.subplot(122)\n",
      "ax1.matshow(A)\n",
      "ax2.matshow(x)\n",
      "\n",
      "print residual(x,phi,A,B)\n",
      "print residual(y,phi,A,B)"
     ],
     "language": "python",
     "metadata": {},
     "outputs": [
      {
       "output_type": "stream",
       "stream": "stdout",
       "text": [
        "(0.0012692051375946534, 0.0003182338979074917, 0.15599260548817037)\n",
        "(0.011629687397439525, -0.0, 6.5284567042466483e-14)\n"
       ]
      },
      {
       "metadata": {},
       "output_type": "display_data",
       "png": "[encoded data removed]",
       "text": [
        "<matplotlib.figure.Figure at 0x1096e9490>"
       ]
      }
     ],
     "prompt_number": 17
    },
    {
     "cell_type": "markdown",
     "metadata": {},
     "source": [
      "# Extra sparse log-space transformation\n",
      "\n",
      "we only form $x$ elements when we know they could be nonzero."
     ]
    },
    {
     "cell_type": "code",
     "collapsed": false,
     "input": [
      "%%time\n",
      "\n",
      "constr = []\n",
      "x = defaultdict(int)\n",
      "phi = cvx.Variable(n)\n",
      "for i in range(m):\n",
      "    for j in range(n):\n",
      "        if A[i,j] > 0:\n",
      "            x[(i,j)] = cvx.Variable()\n",
      "            constr += [x[(i,j)] >= 0]\n",
      "            \n",
      "Btot = B.sum(axis=0)\n",
      "for j in range(n):\n",
      "    constr += [sum(x[(i,j)] for i in range(m) if (i,j) in x) == Btot[j]]\n",
      "\n",
      "for i in range(m):\n",
      "    util = cvx.log(sum(x[(i,j)]*A[i,j] for j in range(n) if A[i,j] > 0 ))\n",
      "    \n",
      "    tmp = cvx.Variable(np.sum(B[i,:] > 0))\n",
      "    constr += [tmp[j] == val for j, val in enumerate([np.log(B[i,k]) + phi[k] for k in range(n) if B[i,k] > 0])]\n",
      "    cash = cvx.log_sum_exp(tmp)\n",
      "    \n",
      "    #would like to do it this way:\n",
      "    #cash = cvx.log_sum_exp([np.log(B[i,k]) + phi[k] for k in range(n) if B[i,k] > 0])\n",
      "    \n",
      "    constr += [util + phi[j] >= cvx.log(A[i,j]) + cash for j in range(n) if A[i,j] > 0]\n",
      "    \n",
      "prob = cvx.Problem(cvx.Minimize(0),constr)\n",
      "result = prob.solve(solver=cvx.SCS, verbose=True)\n",
      "\n",
      "\n",
      "xsol = np.zeros((m,n))\n",
      "for k,v in x.iteritems():\n",
      "    xsol[k] = v.value\n",
      "    \n",
      "fig = plt.figure(figsize=(9,9))\n",
      "ax1 = plt.subplot(121)\n",
      "ax2 = plt.subplot(122)\n",
      "ax1.matshow(A)\n",
      "ax2.matshow(xsol)\n",
      "\n",
      "phi = np.array(phi.value).flatten()\n",
      "y = polish(xsol,B)\n",
      "\n",
      "print residual(xsol,phi,A,B)\n",
      "print residual(y,phi,A,B)"
     ],
     "language": "python",
     "metadata": {},
     "outputs": [
      {
       "output_type": "stream",
       "stream": "stdout",
       "text": [
        "----------------------------------------------------------------------------\n",
        "\tSCS v1.0.5 - Splitting Conic Solver\n",
        "\t(c) Brendan O'Donoghue, Stanford University, 2012\n",
        "----------------------------------------------------------------------------\n",
        "Lin-sys: sparse-direct, nnz in A = 7510\n",
        "EPS = 1.00e-03, ALPHA = 1.80, MAX_ITERS = 2500, NORMALIZE = 1, SCALE = 5.00\n",
        "Variables n = 2157, constraints m = 4213\n",
        "Cones:\tprimal zero / dual free vars: 722\n",
        "\tlinear vars: 1328\n",
        "\texp vars: 2163, dual exp vars: 0\n",
        "Setup time: 3.84e-03s\n",
        "----------------------------------------------------------------------------\n",
        " Iter | pri res | dua res | rel gap | pri obj | dua obj | kap/tau | time (s)\n",
        "----------------------------------------------------------------------------\n",
        "     0|      nan  3.00e+00       nan       nan       inf       inf  1.19e-02 \n",
        "   100|"
       ]
      },
      {
       "output_type": "stream",
       "stream": "stdout",
       "text": [
        " 1.08e-03  7.39e-06  2.17e-06  0.00e+00 -2.17e-06  0.00e+00  8.02e-01 \n",
        "   120|"
       ]
      },
      {
       "output_type": "stream",
       "stream": "stdout",
       "text": [
        " 6.82e-04  4.50e-06  2.24e-06  0.00e+00 -2.24e-06  0.00e+00  9.53e-01 \n",
        "----------------------------------------------------------------------------\n",
        "Status: Solved\n",
        "Timing: Total solve time: 9.53e-01s\n",
        "\tLin-sys: nnz in L factor: 25665, avg solve time: 1.57e-04s\n",
        "\tCones: avg projection time: 7.63e-03s\n",
        "----------------------------------------------------------------------------\n",
        "Error metrics:\n",
        "|Ax + s - b|_2 / (1 + |b|_2) = 6.8239e-04\n",
        "|A'y + c|_2 / (1 + |c|_2) = 4.4973e-06\n",
        "|c'x + b'y| / (1 + |c'x| + |b'y|) = 2.2363e-06\n",
        "dist(s, K) = 0, dist(y, K*) = 0, s'y = 0\n",
        "----------------------------------------------------------------------------\n",
        "c'x = 0.0000, -b'y = -0.0000\n",
        "============================================================================\n",
        "(0.08066270250757146, 0.0026940059823477363, 0.11919893747276471)"
       ]
      },
      {
       "output_type": "stream",
       "stream": "stdout",
       "text": [
        "\n",
        "(0.081015789592979282, -0.0, 3.0132333124965535e-14)\n",
        "CPU times: user 7.84 s, sys: 42.3 ms, total: 7.88 s\n",
        "Wall time: 8.12 s\n"
       ]
      },
      {
       "metadata": {},
       "output_type": "display_data",
       "png": "[encoded data removed]",
       "text": [
        "<matplotlib.figure.Figure at 0x111a37390>"
       ]
      }
     ],
     "prompt_number": 13
    },
    {
     "cell_type": "markdown",
     "metadata": {},
     "source": [
      "1000x1000: 2 min 19 sec, scs: 16 sec\n",
      "\n",
      "2000x2000: 4 min 54 sec, scs: 34 sec\n",
      "\n",
      "500x500 1 min 6 sec, scs: 7.7 s"
     ]
    },
    {
     "cell_type": "code",
     "collapsed": false,
     "input": [
      "%%time\n",
      "\n",
      "constr = []\n",
      "x = defaultdict(int)\n",
      "phi = cvx.Variable(n)\n",
      "for i in range(m):\n",
      "    for j in range(n):\n",
      "        if A[i,j] > 0:\n",
      "            x[(i,j)] = cvx.Variable()\n",
      "            constr += [x[(i,j)] >= 0]\n",
      "            \n",
      "Btot = B.sum(axis=0)\n",
      "for j in range(n):\n",
      "    constr += [sum(x[(i,j)] for i in range(m) if (i,j) in x) == Btot[j]]\n",
      "\n",
      "for i in range(m):\n",
      "    util = cvx.log(sum(x[(i,j)]*A[i,j] for j in range(n) if A[i,j] > 0 ))\n",
      "    cash = cvx.log_sum_exp(cvx.vstack(*[np.log(B[i,k]) + phi[k] for k in range(n) if B[i,k] > 0]))\n",
      "    constr += [util + phi[j] >= cvx.log(A[i,j]) + cash for j in range(n) if A[i,j] > 0]\n",
      "    \n",
      "prob = cvx.Problem(cvx.Minimize(0),constr)\n",
      "result = prob.solve(solver=cvx.SCS, verbose=True)\n",
      "\n",
      "\n",
      "xsol = np.zeros((m,n))\n",
      "for k,v in x.iteritems():\n",
      "    xsol[k] = v.value\n",
      "    \n",
      "fig = plt.figure(figsize=(9,9))\n",
      "ax1 = plt.subplot(121)\n",
      "ax2 = plt.subplot(122)\n",
      "ax1.matshow(A)\n",
      "ax2.matshow(xsol)\n",
      "\n",
      "phi = np.array(phi.value).flatten()\n",
      "y = polish(xsol,B)\n",
      "\n",
      "print residual(xsol,phi,A,B)\n",
      "print residual(y,phi,A,B)"
     ],
     "language": "python",
     "metadata": {},
     "outputs": [
      {
       "output_type": "stream",
       "stream": "stdout",
       "text": [
        "----------------------------------------------------------------------------\n",
        "\tSCS v1.0.5 - Splitting Conic Solver\n",
        "\t(c) Brendan O'Donoghue, Stanford University, 2012\n",
        "----------------------------------------------------------------------------\n",
        "Lin-sys: sparse-direct, nnz in A = 1568\n",
        "EPS = 1.00e-03, ALPHA = 1.80, MAX_ITERS = 2500, NORMALIZE = 1, SCALE = 5.00\n",
        "Variables n = 447, constraints m = 873\n",
        "Cones:\tprimal zero / dual free vars: 149\n",
        "\tlinear vars: 280\n",
        "\texp vars: 444, dual exp vars: 0\n",
        "Setup time: 4.12e-03s\n",
        "----------------------------------------------------------------------------\n",
        " Iter | pri res | dua res | rel gap | pri obj | dua obj | kap/tau | time (s)\n",
        "----------------------------------------------------------------------------\n",
        "     0|      nan  2.93e+00       nan       nan       inf       inf  3.71e-03 \n",
        "   100|"
       ]
      },
      {
       "output_type": "stream",
       "stream": "stdout",
       "text": [
        " 9.68e-04  6.18e-06  4.38e-06  0.00e+00  4.38e-06  5.86e-19  1.67e-01 \n",
        "----------------------------------------------------------------------------\n",
        "Status: Solved\n",
        "Timing: Total solve time: 1.67e-01s\n",
        "\tLin-sys: nnz in L factor: 4037, avg solve time: 3.43e-05s\n",
        "\tCones: avg projection time: 1.58e-03s\n",
        "----------------------------------------------------------------------------\n",
        "Error metrics:\n",
        "|Ax + s - b|_2 / (1 + |b|_2) = 9.6776e-04\n",
        "|A'y + c|_2 / (1 + |c|_2) = 6.1848e-06\n",
        "|c'x + b'y| / (1 + |c'x| + |b'y|) = 4.3786e-06\n",
        "dist(s, K) = 0, dist(y, K*) = 0, s'y = 0\n",
        "----------------------------------------------------------------------------\n",
        "c'x = 0.0000, -b'y = 0.0000\n",
        "============================================================================\n",
        "(0.0687914102606344, 0.0012596165940193568, 0.057052425077907025)"
       ]
      },
      {
       "output_type": "stream",
       "stream": "stdout",
       "text": [
        "\n",
        "(0.068828866213142881, -0.0, 7.0809379410299855e-15)\n",
        "CPU times: user 1.85 s, sys: 39.9 ms, total: 1.89 s\n",
        "Wall time: 2 s\n"
       ]
      },
      {
       "metadata": {},
       "output_type": "display_data",
       "png": "[encoded data removed]",
       "text": [
        "<matplotlib.figure.Figure at 0x10c63fd50>"
       ]
      }
     ],
     "prompt_number": 6
    },
    {
     "cell_type": "code",
     "collapsed": false,
     "input": [
      "import cvxpy as cvx\n",
      "\n",
      "x = cvx.Variable(1)\n",
      "\n",
      "a = (1 - cvx.inv_pos(cvx.sqrt(x+1)))"
     ],
     "language": "python",
     "metadata": {},
     "outputs": [],
     "prompt_number": 3
    },
    {
     "cell_type": "code",
     "collapsed": false,
     "input": [
      "a.curvature"
     ],
     "language": "python",
     "metadata": {},
     "outputs": [
      {
       "metadata": {},
       "output_type": "pyout",
       "prompt_number": 4,
       "text": [
        "'CONCAVE'"
       ]
      }
     ],
     "prompt_number": 4
    },
    {
     "cell_type": "code",
     "collapsed": false,
     "input": [
      "\n",
      "\n",
      "\n"
     ],
     "language": "python",
     "metadata": {},
     "outputs": []
    }
   ],
   "metadata": {}
  }
 ]
}