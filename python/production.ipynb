{
 "metadata": {
  "name": "",
  "signature": "sha256:f0daa0c975f77c0d92267a72fc62e70e678f2b7fb6fc9a3e4e46da98fe453f6a"
 },
 "nbformat": 3,
 "nbformat_minor": 0,
 "worksheets": [
  {
   "cells": [
    {
     "cell_type": "markdown",
     "metadata": {},
     "source": [
      "# Models with production\n",
      "\n",
      "From chapter 6 of Algorithmic Game Theory"
     ]
    },
    {
     "cell_type": "code",
     "collapsed": false,
     "input": [],
     "language": "python",
     "metadata": {},
     "outputs": []
    }
   ],
   "metadata": {}
  }
 ]
}